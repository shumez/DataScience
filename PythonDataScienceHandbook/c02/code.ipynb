{
 "cells": [
  {
   "cell_type": "markdown",
   "metadata": {},
   "source": [
    "# 02 Introduction to Numpy"
   ]
  },
  {
   "cell_type": "markdown",
   "metadata": {},
   "source": [
    "## Contents\n",
    "\n",
    "- [02.01 Understanding Data Types in Python](#02-01-Understanding-Data-Types-in-Python)\n",
    "    - [02.01.01 A Python Interger Is More Than Just an Integer](#020101-A-Python-Interger-Is-More-Than-Just-an-Integer)\n",
    "    - [02.01.02 A Python List Is More Than Just a List](#020102-A-Python-List-Is-More-Than-Just-a-List)\n",
    "    - [02.01.03 Fixed-Type Arrays in Python](#020103-Fixed-Type-Arrays-in-Python)\n",
    "    - [02.01.04 Creating Arrays from Python Lists](#020104-Creating-Arrays-from-Python-Lists)\n",
    "    - [02.01.05 Creating Arrays from Scratch](#020105-Creating-Arrays-from-Scratch)\n",
    "    - [02.01.06 NumPy Standard Data Types](#020106-NumPy-Standard-Data-Types)\n",
    "- [02.02 The Basics of Numpy Arrays](#0202-The-Basics-of-Numpy-Arrays)\n",
    "    - [02.02.01 NumPy Array Attributes](#020201-NumPy-Array-Attributes)\n",
    "    - [02.02.02 Array Indexing: Accessing Single Elements](#020202-Array-Indexing-Accessing-Single-Elements)\n",
    "    - [02.02.03 Array Slicing: Accessing Subarrays](#020203-Array-Slicing-Accessing-Subarrays)\n",
    "        - [02.02.03.01 One-dimensional subarrays](#02020301-One-dimensional-subarrays)\n",
    "        - [02.02.03.02 Multidimensional subarrays](#02020302-Multidimensional-subarrays)\n",
    "        - [02.02.03.03 Accessing array rows and columns](#02020303-Accessing-array-rows-and-columns)\n",
    "        - [02.02.03.04 Subarrays as no-copy views](#02020304-Subarrays-as-no-copy-views)\n",
    "        - [02.02.03.05 Creating copies of arrays](#02020305-Creating-copies-of-arrays)\n",
    "    - [02.02.04 Reshaping of Arrays](#020204-Reshaping-of-Arrays)\n",
    "    - [02.02.05 Array Concatenation and Splitting](#020205-Array-Concatenation-and-Splitting)\n",
    "        - [02.02.05.01 Concatenation of arrays](#02020501-Concatenation-of-arrays)\n",
    "        - [02.02.05.02 Splitting of arrays](#02020502-Splitting-of-arrays)\n",
    "- [02.03 Computation on Numpy Arrays: Universal Functions](#0203-Computation-on-Numpy-Arrays-Universal-Functions)\n",
    "    - [02.03.01 The Slowness of Loops](#020301-The-Slowness-of-Loops)\n",
    "    - [02.03.02 Introducing UFuncs](#020302-Introducing-UFuncs)\n",
    "    - [02.03.03 Exploring NumPy's UFuncs](#020303-Exploring-NumPys-UFuncs)\n",
    "        - [02.03.03.01 Array arithmetic](#02030301-Array-arithmetic)\n",
    "        - [02.03.03.02 Absolute value](#02030302-Absolute-value)\n",
    "        - [02.03.03.03 Trigometric functions](#02030303-Trigometric-functions)\n",
    "        - [02.03.03.04 Exponents and logarithms](#02030304-Exponents-and-logarithms)\n",
    "        - [02.03.03.05 Specialized ufuncs](#02030305-Specialized-ufuncs)\n",
    "    - [02.03.04 Advanced Ufunc Features](#020304-Advanced-Ufunc-Features)\n",
    "        - [02.03.04.01 Specifying output](#02030401-Specifying-output)\n",
    "        - [02.03.04.02 Aggregates](#02030402-Aggregates)\n",
    "        - [02.03.04.03 Outer products](#02030403-Outer-products)\n",
    "    - [02.03.05 Ufuncs: Leanging More](#020305-Ufuncs-Leanging-More)\n",
    "- [02.04 Aggregations: Min, Max, and Everything in Between](#0204-Aggregations-Min-Max-and-Everything-in-Between)\n",
    "    - [02.04.01 Stumming the Values in an Array](#020401-Stumming-the-Values-in-an-Array)\n",
    "    - [02.04.02 Minimum and Maximum](#020402-Minimum-and-Maximum)\n",
    "        - [02.04.02.01 Multidimensional aggregates](#02040201-Multidimensional-aggregates)\n",
    "        - [02.04.02.02 Other aggregation functions](#02040202-Other-aggregation-functions)\n",
    "    - [02.04.03 Example: What Is the Average Height of US Presidents?](#020403-Example-What-Is-the-Average-Height-of-US-Presidents)\n",
    "- [02.05 Computation on Arrays: Broadcasting](#0405-Computation-on-Arrays-Broadcasting)\n",
    "    - [02.05.01 Introducing Broadcasting](#020501-Introducing-Broadcasting)\n",
    "    - [02.05.02 Rules of Broadcasting](#020502-Rules-of-Broadcasting)\n",
    "        - [02.05.02.01 Broadcasting example 1](#02050201-Broadcasting-example-1)\n",
    "        - [02.05.02.02 Broadcasting example 2](#02050202-Broadcasting-example-2)\n",
    "        - [02.05.02.03 Broadcasting example 3](#02050203-Broadcasting-example-3)\n",
    "    - [02.05.03 Broadcasting in Practice](#020503-Broadcasting-in-Practice)\n",
    "        - [02.05.03.01 Centering an array](#02050301-Centering-an-array)\n",
    "        - [02.05.03.02 Plotting a two-dimensional function](#02050302-Plotting-a-two-dimensional-function)\n",
    "- [02.06 Comparisons, Masks, and Boolean Logic](#0206-Comparisons-Masks-and-Boolean-Logic)\n",
    "    - [02.06.01 Example: Counting Rainy Days](#020601-Example-Counting-Rainy-Days)\n",
    "        - [02.06.01.01 Digging into the data](#02060101-Digging-into-the-data)\n",
    "    - [02.06.02 Comparison Operators as ufuncs](#020602-Comparison-Operators-as-ufuncs)\n",
    "    - [02.06.03 Working with Boolean Arrays](#020603-Working-with-Boolean-Arrays)\n",
    "- [02.07 Fancy Indexing](#0407-Fancy-Indexing)\n",
    "- [02.08 Sorting Arrays](#0408-Sorting-Arrays)\n",
    "- [02.09 Structured Data: NumPy's Structured Arrays](#0209-Structured-Data-NumPy's-Structured-Arrays)"
   ]
  },
  {
   "cell_type": "code",
   "execution_count": 1,
   "metadata": {},
   "outputs": [
    {
     "name": "stdout",
     "output_type": "stream",
     "text": [
      "2019-4-2 14:39:44\n",
      "----------------------\n",
      "numpy\t\t1.15.2\n",
      "scipy\t\t1.1.0\n",
      "pandas\t\t0.24.1\n",
      "matplotlib\t3.0.0\n",
      "----------------------\n",
      "ipython\t\t7.2.0\n",
      "----------------------\n",
      "sklearn\t\t0.20.0\n"
     ]
    }
   ],
   "source": [
    "# import\n",
    "import numpy as np\n",
    "import scipy\n",
    "import pandas as pd\n",
    "import matplotlib\n",
    "import matplotlib.pyplot as plt\n",
    "import IPython\n",
    "import networkx as nx\n",
    "import sklearn\n",
    "\n",
    "from IPython.display import Image\n",
    "%matplotlib inline\n",
    "\n",
    "import datetime\n",
    "dt = datetime.datetime.now()\n",
    "\n",
    "print(\n",
    "\"\"\"{}-{}-{} {}:{}:{}\n",
    "----------------------\n",
    "numpy\\t\\t{}\n",
    "scipy\\t\\t{}\n",
    "pandas\\t\\t{}\n",
    "matplotlib\\t{}\n",
    "----------------------\n",
    "ipython\\t\\t{}\n",
    "----------------------\n",
    "sklearn\\t\\t{}\"\"\"\n",
    "    .format(dt.year, dt.month, dt.day, dt.hour, dt.minute, dt.second, np.__version__, scipy.__version__, pd.__version__, matplotlib.__version__, IPython.__version__, sklearn.__version__))"
   ]
  },
  {
   "cell_type": "markdown",
   "metadata": {},
   "source": [
    "## 02.01 Understanding Data Types in Python"
   ]
  },
  {
   "cell_type": "code",
   "execution_count": 2,
   "metadata": {},
   "outputs": [
    {
     "name": "stdout",
     "output_type": "stream",
     "text": [
      "result: 100\n",
      "type: <class 'int'>\n"
     ]
    }
   ],
   "source": [
    "result = 0\n",
    "for i in range(100):\n",
    "    result += 1\n",
    "\n",
    "print('result: {}\\ntype: {}'.format(result, type(result)))"
   ]
  },
  {
   "cell_type": "code",
   "execution_count": 3,
   "metadata": {},
   "outputs": [
    {
     "name": "stdout",
     "output_type": "stream",
     "text": [
      "type: <class 'int'>\n",
      "type: <class 'str'>\n"
     ]
    }
   ],
   "source": [
    "x = 4\n",
    "print('type: {}'.format(type(x)))\n",
    "x = 'four'\n",
    "print('type: {}'.format(type(x)))"
   ]
  },
  {
   "cell_type": "markdown",
   "metadata": {},
   "source": [
    "### 02.01.01 A Python Interger Is More Than Just an Integer"
   ]
  },
  {
   "cell_type": "markdown",
   "metadata": {},
   "source": [
    "### 02.01.02 A Python List Is More Than Just a List"
   ]
  },
  {
   "cell_type": "code",
   "execution_count": 4,
   "metadata": {},
   "outputs": [
    {
     "name": "stdout",
     "output_type": "stream",
     "text": [
      "L: [0, 1, 2, 3, 4, 5, 6, 7, 8, 9]\n",
      "type: <class 'int'>\n"
     ]
    }
   ],
   "source": [
    "L = list(range(10))\n",
    "print('L: {}'.format(L))\n",
    "print('type: {}'.format(type(L[0])))"
   ]
  },
  {
   "cell_type": "code",
   "execution_count": 5,
   "metadata": {},
   "outputs": [
    {
     "name": "stdout",
     "output_type": "stream",
     "text": [
      "L2: ['0', '1', '2', '3', '4', '5', '6', '7', '8', '9']\n",
      "type: <class 'str'>\n"
     ]
    }
   ],
   "source": [
    "L2 = [str(c) for c in L]\n",
    "print('L2: {}'.format(L2))\n",
    "print('type: {}'.format(type(L2[0])))"
   ]
  },
  {
   "cell_type": "code",
   "execution_count": 6,
   "metadata": {},
   "outputs": [
    {
     "name": "stdout",
     "output_type": "stream",
     "text": [
      "type: [<class 'bool'>, <class 'str'>, <class 'float'>, <class 'int'>]\n"
     ]
    }
   ],
   "source": [
    "L3 = [True, '2', 3.0, 4]\n",
    "print('type: {}'.format([type(item) for item in L3]))"
   ]
  },
  {
   "cell_type": "markdown",
   "metadata": {},
   "source": [
    "### 02.01.03 Fixed-Type Arrays in Python"
   ]
  },
  {
   "cell_type": "code",
   "execution_count": 7,
   "metadata": {},
   "outputs": [
    {
     "name": "stdout",
     "output_type": "stream",
     "text": [
      "array('i', [0, 1, 2, 3, 4, 5, 6, 7, 8, 9])\n",
      "type: <class 'int'>\n"
     ]
    }
   ],
   "source": [
    "import array\n",
    "L = list(range(10))\n",
    "A = array.array('i', L)\n",
    "print(A)\n",
    "print('type: {}'.format(type(A[0])))"
   ]
  },
  {
   "cell_type": "markdown",
   "metadata": {},
   "source": [
    "### 02.01.04 Creating Arrays from Python Lists"
   ]
  },
  {
   "cell_type": "code",
   "execution_count": 8,
   "metadata": {},
   "outputs": [
    {
     "name": "stdout",
     "output_type": "stream",
     "text": [
      "[ 1  2  3  5  8 13]\n"
     ]
    }
   ],
   "source": [
    "L = np.array([1, 2, 3, 5, 8, 13])\n",
    "print(L)"
   ]
  },
  {
   "cell_type": "code",
   "execution_count": 9,
   "metadata": {},
   "outputs": [
    {
     "name": "stdout",
     "output_type": "stream",
     "text": [
      "[ 1.  2.  3.  5.  8. 13.]\n"
     ]
    }
   ],
   "source": [
    "L = np.array([1, 2, 3, 5.0, 8, 13])\n",
    "print(L)"
   ]
  },
  {
   "cell_type": "code",
   "execution_count": 10,
   "metadata": {},
   "outputs": [
    {
     "name": "stdout",
     "output_type": "stream",
     "text": [
      "[ 1.  2.  3.  5.  8. 13.]\n"
     ]
    }
   ],
   "source": [
    "L = np.array([1, 2, 3, 5, 8, 13], dtype='float32')\n",
    "print(L)"
   ]
  },
  {
   "cell_type": "code",
   "execution_count": 11,
   "metadata": {},
   "outputs": [
    {
     "name": "stdout",
     "output_type": "stream",
     "text": [
      "[[2 3 4]\n",
      " [4 5 6]\n",
      " [6 7 8]]\n"
     ]
    }
   ],
   "source": [
    "L = np.array([range(i, i+3) for i in [2, 4, 6]])\n",
    "print(L)"
   ]
  },
  {
   "cell_type": "markdown",
   "metadata": {},
   "source": [
    "### 02.01.05 Creating Arrays from Scratch"
   ]
  },
  {
   "cell_type": "code",
   "execution_count": 12,
   "metadata": {},
   "outputs": [
    {
     "name": "stdout",
     "output_type": "stream",
     "text": [
      "10 length array filled with 0s\n",
      "[0 0 0 0 0 0 0 0 0 0]\n"
     ]
    }
   ],
   "source": [
    "num = 10\n",
    "zeros = np.zeros(num, dtype=int)\n",
    "print('{} length array filled with 0s'.format(num))\n",
    "print(zeros)"
   ]
  },
  {
   "cell_type": "code",
   "execution_count": 13,
   "metadata": {},
   "outputs": [
    {
     "name": "stdout",
     "output_type": "stream",
     "text": [
      "3x5 floating-point array filled with 1s\n",
      "[[1. 1. 1. 1. 1.]\n",
      " [1. 1. 1. 1. 1.]\n",
      " [1. 1. 1. 1. 1.]]\n"
     ]
    }
   ],
   "source": [
    "row, col = 3, 5\n",
    "ones = np.ones((row, col), dtype=float)\n",
    "print('{}x{} floating-point array filled with 1s'.format(row, col))\n",
    "print(ones)"
   ]
  },
  {
   "cell_type": "code",
   "execution_count": 14,
   "metadata": {},
   "outputs": [
    {
     "name": "stdout",
     "output_type": "stream",
     "text": [
      "3x5 array filled with 3.14\n",
      "[[3.14 3.14 3.14 3.14 3.14]\n",
      " [3.14 3.14 3.14 3.14 3.14]\n",
      " [3.14 3.14 3.14 3.14 3.14]]\n"
     ]
    }
   ],
   "source": [
    "row, col = 3, 5\n",
    "val = 3.14\n",
    "full = np.full((row, col), val)\n",
    "print('{}x{} array filled with {}'.format(row, col, val))\n",
    "print(full)"
   ]
  },
  {
   "cell_type": "code",
   "execution_count": 15,
   "metadata": {},
   "outputs": [
    {
     "name": "stdout",
     "output_type": "stream",
     "text": [
      "start at 0 end at 20, stepping by 2\n",
      "[ 0  2  4  6  8 10 12 14 16 18]\n"
     ]
    }
   ],
   "source": [
    "start, end = 0, 20\n",
    "step = 2\n",
    "arange = np.arange(start, end, step)\n",
    "print('start at {} end at {}, stepping by {}'.format(start, end, step))\n",
    "print(arange)"
   ]
  },
  {
   "cell_type": "code",
   "execution_count": 16,
   "metadata": {},
   "outputs": [
    {
     "name": "stdout",
     "output_type": "stream",
     "text": [
      "5 values beteween 0 and 1\n",
      "[0.   0.25 0.5  0.75 1.  ]\n"
     ]
    }
   ],
   "source": [
    "start, end = 0, 1\n",
    "num = 5\n",
    "linspace = np.linspace(start, end, num)\n",
    "print('{} values beteween {} and {}'.format(num, start, end))\n",
    "print(linspace)"
   ]
  },
  {
   "cell_type": "code",
   "execution_count": 17,
   "metadata": {},
   "outputs": [
    {
     "name": "stdout",
     "output_type": "stream",
     "text": [
      "3x3 array of uniforaly distributed\n",
      "[[0.42003401 0.38006781 0.17141604]\n",
      " [0.38855053 0.77878243 0.34717275]\n",
      " [0.38575446 0.35524008 0.49643494]]\n"
     ]
    }
   ],
   "source": [
    "row, col = 3, 3\n",
    "random = np.random.random((row, col))\n",
    "print('{}x{} array of uniforaly distributed'.format(row, col))\n",
    "print(random)"
   ]
  },
  {
   "cell_type": "code",
   "execution_count": 18,
   "metadata": {},
   "outputs": [
    {
     "name": "stdout",
     "output_type": "stream",
     "text": [
      "3x3 array of normally distributed random\n",
      "mean 0 std 1\n",
      "[[ 0.00568459  0.87924302  0.28335605]\n",
      " [-0.55390075  1.81306784 -2.23328335]\n",
      " [-1.41645137  0.85488181  0.59919688]]\n"
     ]
    }
   ],
   "source": [
    "mean, std = 0, 1\n",
    "row, col = 3, 3\n",
    "normal = np.random.normal(mean, std, (row, col))\n",
    "print('{}x{} array of normally distributed random\\nmean {} std {}'.format(row, col, mean, std))\n",
    "print(normal)"
   ]
  },
  {
   "cell_type": "code",
   "execution_count": 19,
   "metadata": {},
   "outputs": [
    {
     "name": "stdout",
     "output_type": "stream",
     "text": [
      "3x3 array of random integers in [0, 10]\n",
      "[[6 8 1]\n",
      " [0 2 7]\n",
      " [9 7 0]]\n"
     ]
    }
   ],
   "source": [
    "start, end = 0, 10\n",
    "row, col = 3, 3\n",
    "randint = np.random.randint(start, end, (row, col))\n",
    "print('{}x{} array of random integers in [{}, {}]'.format(row, col, start, end))\n",
    "print(randint)"
   ]
  },
  {
   "cell_type": "code",
   "execution_count": 20,
   "metadata": {},
   "outputs": [
    {
     "name": "stdout",
     "output_type": "stream",
     "text": [
      "3x3 identity mat\n",
      "[[1. 0. 0.]\n",
      " [0. 1. 0.]\n",
      " [0. 0. 1.]]\n"
     ]
    }
   ],
   "source": [
    "num = 3\n",
    "eye = np.eye(num)\n",
    "print('{}x{} identity mat'.format(num, num))\n",
    "print(eye)"
   ]
  },
  {
   "cell_type": "code",
   "execution_count": 21,
   "metadata": {},
   "outputs": [
    {
     "name": "stdout",
     "output_type": "stream",
     "text": [
      "uninialized array of 3 integers\n",
      "[1. 1. 1.]\n"
     ]
    }
   ],
   "source": [
    "num = 3\n",
    "empty = np.empty(num)\n",
    "print('uninialized array of {} integers'.format(num))\n",
    "print(empty)"
   ]
  },
  {
   "cell_type": "markdown",
   "metadata": {},
   "source": [
    "### 02.01.06 NumPy Standard Data Types"
   ]
  },
  {
   "cell_type": "markdown",
   "metadata": {},
   "source": [
    "## 02.02 The Basics of Numpy Arrays"
   ]
  },
  {
   "cell_type": "markdown",
   "metadata": {},
   "source": [
    "### 02.02.01 NumPy Array Attributes"
   ]
  },
  {
   "cell_type": "code",
   "execution_count": 22,
   "metadata": {},
   "outputs": [
    {
     "name": "stdout",
     "output_type": "stream",
     "text": [
      "x1 = \n",
      "[5 0 3 3 7 9]\n",
      "\n",
      "x2 = \n",
      "[[3 5 2 4]\n",
      " [7 6 8 8]\n",
      " [1 6 7 7]]\n",
      "\n",
      "x3 = \n",
      "[[[8 1 5 9 8]\n",
      "  [9 4 3 0 3]\n",
      "  [5 0 2 3 8]\n",
      "  [1 3 3 3 7]]\n",
      "\n",
      " [[0 1 9 9 0]\n",
      "  [4 7 3 2 7]\n",
      "  [2 0 0 4 5]\n",
      "  [5 6 8 4 1]]\n",
      "\n",
      " [[4 9 8 1 1]\n",
      "  [7 9 9 3 6]\n",
      "  [7 2 0 3 5]\n",
      "  [9 4 4 6 4]]]\n"
     ]
    }
   ],
   "source": [
    "np.random.seed(0)\n",
    "\n",
    "x1 = np.random.randint(10, size=6)#, seed=0)\n",
    "x2 = np.random.randint(10, size=(3, 4))#, seed=0)\n",
    "x3 = np.random.randint(10, size=(3, 4, 5))#, seed=0)\n",
    "print('x1 = \\n{}\\n'.format(x1))\n",
    "print('x2 = \\n{}\\n'.format(x2))\n",
    "print('x3 = \\n{}'.format(x3))"
   ]
  },
  {
   "cell_type": "code",
   "execution_count": 23,
   "metadata": {},
   "outputs": [
    {
     "name": "stdout",
     "output_type": "stream",
     "text": [
      "x3 ndim:\t3\n",
      "x3 shape:\t(3, 4, 5)\n",
      "x3 size:\t60\n"
     ]
    }
   ],
   "source": [
    "print('x3 ndim:\\t{}'.format(x3.ndim))\n",
    "print('x3 shape:\\t{}'.format(x3.shape))\n",
    "print('x3 size:\\t{}'.format(x3.size))"
   ]
  },
  {
   "cell_type": "code",
   "execution_count": 24,
   "metadata": {},
   "outputs": [
    {
     "name": "stdout",
     "output_type": "stream",
     "text": [
      "dtype: int64\n"
     ]
    }
   ],
   "source": [
    "print('dtype: {}'.format(x3.dtype))"
   ]
  },
  {
   "cell_type": "code",
   "execution_count": 25,
   "metadata": {},
   "outputs": [
    {
     "name": "stdout",
     "output_type": "stream",
     "text": [
      "itemsize: 8 bytes\n",
      "nbytes: 480 bytes\n"
     ]
    }
   ],
   "source": [
    "print('itemsize: {} bytes'.format(x3.itemsize))\n",
    "print('nbytes: {} bytes'.format(x3.nbytes))"
   ]
  },
  {
   "cell_type": "markdown",
   "metadata": {},
   "source": [
    "### 02.02.02 Array Indexing: Accessing Single Elements"
   ]
  },
  {
   "cell_type": "code",
   "execution_count": 26,
   "metadata": {},
   "outputs": [
    {
     "name": "stdout",
     "output_type": "stream",
     "text": [
      "x1=[5 0 3 3 7 9]\n",
      "x1[0]=5\n",
      "x1[4]=7\n"
     ]
    }
   ],
   "source": [
    "print('x1={}'.format(x1))\n",
    "print('x1[0]={}'.format(x1[0]))\n",
    "print('x1[4]={}'.format(x1[4]))"
   ]
  },
  {
   "cell_type": "code",
   "execution_count": 27,
   "metadata": {},
   "outputs": [
    {
     "name": "stdout",
     "output_type": "stream",
     "text": [
      "x1[-1]=9\n",
      "x1[-2]=7\n"
     ]
    }
   ],
   "source": [
    "print('x1[-1]={}'.format(x1[-1]))\n",
    "print('x1[-2]={}'.format(x1[-2]))"
   ]
  },
  {
   "cell_type": "code",
   "execution_count": 28,
   "metadata": {},
   "outputs": [
    {
     "name": "stdout",
     "output_type": "stream",
     "text": [
      "x2=\n",
      "[[3 5 2 4]\n",
      " [7 6 8 8]\n",
      " [1 6 7 7]]\n",
      "\n",
      "x2[0,0]=3\n",
      "\n",
      "x2[2,0]=1\n",
      "\n",
      "x2[2,-1]=7\n",
      "\n"
     ]
    }
   ],
   "source": [
    "print('x2=\\n{}\\n'.format(x2))\n",
    "print('x2[0,0]={}\\n'.format(x2[0,0]))\n",
    "print('x2[2,0]={}\\n'.format(x2[2,0]))\n",
    "print('x2[2,-1]={}\\n'.format(x2[2,-1]))"
   ]
  },
  {
   "cell_type": "code",
   "execution_count": 29,
   "metadata": {},
   "outputs": [
    {
     "name": "stdout",
     "output_type": "stream",
     "text": [
      "x2=\n",
      "[[12  5  2  4]\n",
      " [ 7  6  8  8]\n",
      " [ 1  6  7  7]]\n"
     ]
    }
   ],
   "source": [
    "x2[0,0]=12\n",
    "print('x2=\\n{}'.format(x2))"
   ]
  },
  {
   "cell_type": "code",
   "execution_count": 30,
   "metadata": {},
   "outputs": [
    {
     "name": "stdout",
     "output_type": "stream",
     "text": [
      "x1=[5 0 3 3 7 9]\n",
      "\n",
      "NumPy arrays have a fixed type\n",
      "x1=[3 0 3 3 7 9]\n"
     ]
    }
   ],
   "source": [
    "print('x1={}\\n'.format(x1))\n",
    "x1[0] = 3.14159\n",
    "print('NumPy arrays have a fixed type\\nx1={}'.format(x1))"
   ]
  },
  {
   "cell_type": "markdown",
   "metadata": {},
   "source": [
    "### 02.02.03 Array Slicing: Accessing Subarrays"
   ]
  },
  {
   "cell_type": "markdown",
   "metadata": {},
   "source": [
    "#### 02.02.03.01 One-dimensional subarrays"
   ]
  },
  {
   "cell_type": "code",
   "execution_count": 31,
   "metadata": {},
   "outputs": [
    {
     "name": "stdout",
     "output_type": "stream",
     "text": [
      "x=[0 1 2 3 4 5 6 7 8 9]\n",
      "\n",
      "x[:5]=[0 1 2 3 4]\n",
      "\n",
      "x[5:]=[5 6 7 8 9]\n",
      "\n",
      "x[4:7]=[4 5 6]\n",
      "\n",
      "x[::2]=[0 2 4 6 8]\n",
      "\n",
      "x[1::2]=[1 3 5 7 9]\n"
     ]
    }
   ],
   "source": [
    "x = np.arange(10)\n",
    "print('x={}\\n'.format(x))\n",
    "print('x[:5]={}\\n'.format(x[:5]))\n",
    "print('x[5:]={}\\n'.format(x[5:]))\n",
    "print('x[4:7]={}\\n'.format(x[4:7]))\n",
    "print('x[::2]={}\\n'.format(x[::2]))\n",
    "print('x[1::2]={}'.format(x[1::2]))"
   ]
  },
  {
   "cell_type": "code",
   "execution_count": 32,
   "metadata": {},
   "outputs": [
    {
     "name": "stdout",
     "output_type": "stream",
     "text": [
      "x[::-1]=[9 8 7 6 5 4 3 2 1 0]\n",
      "\n",
      "x[5::-2]=[5 3 1]\n"
     ]
    }
   ],
   "source": [
    "print('x[::-1]={}\\n'.format(x[::-1]))\n",
    "print('x[5::-2]={}'.format(x[5::-2]))"
   ]
  },
  {
   "cell_type": "markdown",
   "metadata": {},
   "source": [
    "#### 02.02.03.02 Multidimensional subarrays"
   ]
  },
  {
   "cell_type": "code",
   "execution_count": 33,
   "metadata": {},
   "outputs": [
    {
     "name": "stdout",
     "output_type": "stream",
     "text": [
      "x2 =\n",
      "[[12  5  2  4]\n",
      " [ 7  6  8  8]\n",
      " [ 1  6  7  7]]\n",
      "\n",
      "x2[:2, :3] =\n",
      "[[12  5  2]\n",
      " [ 7  6  8]]\n",
      "\n",
      "x2[:3, ::2] =\n",
      "[[12  2]\n",
      " [ 7  8]\n",
      " [ 1  7]]\n",
      "\n",
      "x2[::-1, ::-1] =\n",
      "[[ 7  7  6  1]\n",
      " [ 8  8  6  7]\n",
      " [ 4  2  5 12]]\n"
     ]
    }
   ],
   "source": [
    "print('x2 =\\n{}\\n'.format(x2))\n",
    "print('x2[:2, :3] =\\n{}\\n'.format(x2[:2, :3]))\n",
    "print('x2[:3, ::2] =\\n{}\\n'.format(x2[:3, ::2]))\n",
    "print('x2[::-1, ::-1] =\\n{}'.format(x2[::-1, ::-1]))"
   ]
  },
  {
   "cell_type": "markdown",
   "metadata": {},
   "source": [
    "#### 02.02.03.03 Accessing array rows and columns"
   ]
  },
  {
   "cell_type": "code",
   "execution_count": 34,
   "metadata": {},
   "outputs": [
    {
     "name": "stdout",
     "output_type": "stream",
     "text": [
      "x2[:, 0]=\n",
      "[12  7  1]\n"
     ]
    }
   ],
   "source": [
    "print('x2[:, 0]=\\n{}'.format(x2[:, 0]))"
   ]
  },
  {
   "cell_type": "code",
   "execution_count": 35,
   "metadata": {},
   "outputs": [
    {
     "name": "stdout",
     "output_type": "stream",
     "text": [
      "x2[0, :]=\n",
      "[12  5  2  4]\n"
     ]
    }
   ],
   "source": [
    "print('x2[0, :]=\\n{}'.format(x2[0, :]))"
   ]
  },
  {
   "cell_type": "code",
   "execution_count": 36,
   "metadata": {},
   "outputs": [
    {
     "name": "stdout",
     "output_type": "stream",
     "text": [
      "x2[0]=\n",
      "[12  5  2  4]\n"
     ]
    }
   ],
   "source": [
    "print('x2[0]=\\n{}'.format(x2[0]))"
   ]
  },
  {
   "cell_type": "markdown",
   "metadata": {},
   "source": [
    "#### 02.02.03.04 Subarrays as no-copy views"
   ]
  },
  {
   "cell_type": "code",
   "execution_count": 37,
   "metadata": {},
   "outputs": [
    {
     "name": "stdout",
     "output_type": "stream",
     "text": [
      "x2=\n",
      "[[12  5  2  4]\n",
      " [ 7  6  8  8]\n",
      " [ 1  6  7  7]]\n",
      "\n",
      "x2_sub = x2[:2, :2] =\n",
      "[[12  5]\n",
      " [ 7  6]]\n",
      "\n",
      "x2_sub =\n",
      "[[99  5]\n",
      " [ 7  6]]\n",
      "\n",
      "original array is changed\n",
      "x2 =\n",
      "[[99  5  2  4]\n",
      " [ 7  6  8  8]\n",
      " [ 1  6  7  7]]\n",
      "\n"
     ]
    }
   ],
   "source": [
    "print('x2=\\n{}\\n'.format(x2))\n",
    "\n",
    "x2_sub = x2[:2, :2]\n",
    "print('x2_sub = x2[:2, :2] =\\n{}\\n'.format(x2_sub))\n",
    "\n",
    "x2_sub[0, 0] = 99\n",
    "print('x2_sub =\\n{}\\n'.format(x2_sub))\n",
    "\n",
    "print('original array is changed\\nx2 =\\n{}\\n'.format(x2))"
   ]
  },
  {
   "cell_type": "markdown",
   "metadata": {},
   "source": [
    "#### 02.02.03.05 Creating copies of arrays"
   ]
  },
  {
   "cell_type": "code",
   "execution_count": 38,
   "metadata": {},
   "outputs": [
    {
     "name": "stdout",
     "output_type": "stream",
     "text": [
      "x2_sub_copy =\n",
      "[[99  5]\n",
      " [ 7  6]]\n",
      "\n",
      "x2_sub_copy =\n",
      "[[42  5]\n",
      " [ 7  6]]\n",
      "\n",
      "original arrays is NOT touched\n",
      "x2 =\n",
      "[[99  5  2  4]\n",
      " [ 7  6  8  8]\n",
      " [ 1  6  7  7]]\n"
     ]
    }
   ],
   "source": [
    "x2_sub_copy = x2[:2, :2].copy()\n",
    "print('x2_sub_copy =\\n{}\\n'.format(x2_sub_copy))\n",
    "\n",
    "x2_sub_copy[0, 0] = 42\n",
    "print('x2_sub_copy =\\n{}\\n'.format(x2_sub_copy))\n",
    "\n",
    "print('original arrays is NOT touched\\nx2 =\\n{}'.format(x2))"
   ]
  },
  {
   "cell_type": "markdown",
   "metadata": {},
   "source": [
    "### 02.02.04 Reshaping of Arrays"
   ]
  },
  {
   "cell_type": "code",
   "execution_count": 39,
   "metadata": {},
   "outputs": [
    {
     "name": "stdout",
     "output_type": "stream",
     "text": [
      "grid =\n",
      "[[1 2 3]\n",
      " [4 5 6]\n",
      " [7 8 9]]\n"
     ]
    }
   ],
   "source": [
    "grid = np.arange(1, 10).reshape((3, 3))\n",
    "print('grid =\\n{}'.format(grid))"
   ]
  },
  {
   "cell_type": "code",
   "execution_count": 40,
   "metadata": {},
   "outputs": [
    {
     "name": "stdout",
     "output_type": "stream",
     "text": [
      "x:\n",
      "[1 2 3]\n",
      "\n",
      "reshaped x:\n",
      "[1 2 3]\n",
      "\n",
      "x[np.newaxis, :]:\n",
      "[[1 2 3]]\n",
      "\n",
      "x.reshape((3, 1)):\n",
      "[[1]\n",
      " [2]\n",
      " [3]]\n",
      "\n",
      "x[:, np.newaxis]:\n",
      "[[1]\n",
      " [2]\n",
      " [3]]\n"
     ]
    }
   ],
   "source": [
    "x = np.array([1, 2, 3])\n",
    "print('x:\\n{}\\n'.format(x))\n",
    "x.reshape((1, 3))\n",
    "print('reshaped x:\\n{}\\n'.format(x))\n",
    "\n",
    "print('x[np.newaxis, :]:\\n{}\\n'.format(x[np.newaxis, :]))\n",
    "\n",
    "x.reshape((3, 1))\n",
    "print('x.reshape((3, 1)):\\n{}\\n'.format(x.reshape((3, 1))))\n",
    "\n",
    "print('x[:, np.newaxis]:\\n{}'.format(x[:, np.newaxis]))"
   ]
  },
  {
   "cell_type": "markdown",
   "metadata": {},
   "source": [
    "### 02.02.05 Array Concatenation and Splitting"
   ]
  },
  {
   "cell_type": "markdown",
   "metadata": {},
   "source": [
    "#### 02.02.05.01 Concatenation of arrays"
   ]
  },
  {
   "cell_type": "code",
   "execution_count": 41,
   "metadata": {},
   "outputs": [
    {
     "name": "stdout",
     "output_type": "stream",
     "text": [
      "np.concatenate([x, y]) :\n",
      "[1 2 3 3 2 1]\n",
      "\n",
      "np.concatenate([x, y, z]) :\n",
      "[ 1  2  3  3  2  1 99 99 99]\n"
     ]
    }
   ],
   "source": [
    "x = np.array([1, 2, 3])\n",
    "y = np.array([3, 2, 1])\n",
    "x_y = np.concatenate([x, y])\n",
    "print('np.concatenate([x, y]) :\\n{}\\n'.format(x_y))\n",
    "\n",
    "z = [99, 99, 99]\n",
    "print('np.concatenate([x, y, z]) :\\n{}'.format(np.concatenate([x, y, z])))"
   ]
  },
  {
   "cell_type": "code",
   "execution_count": 42,
   "metadata": {},
   "outputs": [
    {
     "name": "stdout",
     "output_type": "stream",
     "text": [
      "concatenate along 1st axis :\n",
      "[[1 2 3]\n",
      " [4 5 6]\n",
      " [1 2 3]\n",
      " [4 5 6]]\n",
      "\n",
      "concatenate along 2nd axis :\n",
      "[[1 2 3 1 2 3]\n",
      " [4 5 6 4 5 6]]\n"
     ]
    }
   ],
   "source": [
    "grid = np.array([[1, 2, 3],\n",
    "                 [4, 5, 6]])\n",
    "\n",
    "print('concatenate along 1st axis :\\n{}\\n'.format(np.concatenate([grid, grid])))\n",
    "\n",
    "print('concatenate along 2nd axis :\\n{}'.format(np.concatenate([grid, grid], axis=1)))"
   ]
  },
  {
   "cell_type": "code",
   "execution_count": 43,
   "metadata": {},
   "outputs": [
    {
     "name": "stdout",
     "output_type": "stream",
     "text": [
      "vertically stack the arrays :\n",
      "[[1 2 3]\n",
      " [9 8 7]\n",
      " [6 5 4]]\n",
      "\n",
      "horizontally stack the arrays :\n",
      "[[ 9  8  7 99]\n",
      " [ 6  5  4 99]]\n",
      "\n",
      "third axis :\n",
      "[[[ 9 -2]\n",
      "  [ 8 -1]\n",
      "  [ 7  0]]\n",
      "\n",
      " [[ 6 -5]\n",
      "  [ 5 -4]\n",
      "  [ 4 -3]]]\n"
     ]
    }
   ],
   "source": [
    "x = np.array([1, 2, 3])\n",
    "grid = np.array([[9, 8, 7], \n",
    "                 [6, 5, 4]])\n",
    "print('vertically stack the arrays :\\n{}\\n'.format(np.vstack([x, grid])))\n",
    "\n",
    "y = np.array([[99], \n",
    "              [99]])\n",
    "\n",
    "print('horizontally stack the arrays :\\n{}\\n'.format(np.hstack([grid, y])))\n",
    "\n",
    "z = np.array([[-2, -1, 0], \n",
    "              [-5, -4, -3]])\n",
    "\n",
    "print('third axis :\\n{}'.format(np.dstack([grid, z])))"
   ]
  },
  {
   "cell_type": "markdown",
   "metadata": {},
   "source": [
    "#### 02.02.05.02 Splitting of arrays"
   ]
  },
  {
   "cell_type": "code",
   "execution_count": 44,
   "metadata": {},
   "outputs": [
    {
     "name": "stdout",
     "output_type": "stream",
     "text": [
      "np.split(x, [3, 5])\n",
      "x1 = [1 2 3]\n",
      "x2 = [99  3]\n",
      "x3 = [2 1]\n"
     ]
    }
   ],
   "source": [
    "x = [1, 2, 3, 99, 3, 2, 1]\n",
    "x1, x2, x3 = np.split(x, [3, 5])\n",
    "print('np.split(x, [3, 5])\\nx1 = {}\\nx2 = {}\\nx3 = {}'.format(x1, x2, x3))"
   ]
  },
  {
   "cell_type": "code",
   "execution_count": 45,
   "metadata": {},
   "outputs": [
    {
     "name": "stdout",
     "output_type": "stream",
     "text": [
      "grid :\n",
      "[[ 0  1  2  3]\n",
      " [ 4  5  6  7]\n",
      " [ 8  9 10 11]\n",
      " [12 13 14 15]]\n",
      "\n",
      "np.vsplit(grid, [2])\n",
      "upper = \n",
      "[[0 1 2 3]\n",
      " [4 5 6 7]]\n",
      "lower = \n",
      "[[ 8  9 10 11]\n",
      " [12 13 14 15]]\n"
     ]
    }
   ],
   "source": [
    "grid = np.arange(16).reshape((4, 4))\n",
    "print('grid :\\n{}\\n'.format(grid))\n",
    "upper, lower = np.vsplit(grid, [2])\n",
    "print('np.vsplit(grid, [2])\\nupper = \\n{}\\nlower = \\n{}'.format(upper, lower))"
   ]
  },
  {
   "cell_type": "code",
   "execution_count": 46,
   "metadata": {},
   "outputs": [
    {
     "name": "stdout",
     "output_type": "stream",
     "text": [
      "np.hsplit(grid, [2])\n",
      "left =\n",
      "[[ 0  1]\n",
      " [ 4  5]\n",
      " [ 8  9]\n",
      " [12 13]]\n",
      "right = \n",
      "[[ 2  3]\n",
      " [ 6  7]\n",
      " [10 11]\n",
      " [14 15]]\n"
     ]
    }
   ],
   "source": [
    "left, right = np.hsplit(grid, [2])\n",
    "print('np.hsplit(grid, [2])\\nleft =\\n{}\\nright = \\n{}'.format(left, right))"
   ]
  },
  {
   "cell_type": "code",
   "execution_count": 47,
   "metadata": {},
   "outputs": [
    {
     "name": "stdout",
     "output_type": "stream",
     "text": [
      "np.dsplit(grid, [2])\n",
      "superficial = \n",
      "[[[ 0  1]\n",
      "  [ 4  5]\n",
      "  [ 8  9]]\n",
      "\n",
      " [[12 13]\n",
      "  [16 17]\n",
      "  [20 21]]]\n",
      "deep = \n",
      "[[[ 2  3]\n",
      "  [ 6  7]\n",
      "  [10 11]]\n",
      "\n",
      " [[14 15]\n",
      "  [18 19]\n",
      "  [22 23]]]\n"
     ]
    }
   ],
   "source": [
    "grid = np.arange(24).reshape((2, 3, 4))\n",
    "superficial, deep = np.dsplit(grid, [2])\n",
    "print('np.dsplit(grid, [2])\\nsuperficial = \\n{}\\ndeep = \\n{}'.format(superficial, deep))"
   ]
  },
  {
   "cell_type": "markdown",
   "metadata": {},
   "source": [
    "## 02.03 Computation on NumPy Arrays: Universal Functions"
   ]
  },
  {
   "cell_type": "markdown",
   "metadata": {},
   "source": [
    "### 02.03.01 The Slowness of Loops"
   ]
  },
  {
   "cell_type": "code",
   "execution_count": 48,
   "metadata": {},
   "outputs": [
    {
     "name": "stdout",
     "output_type": "stream",
     "text": [
      "[6 1 4 4 8]\n"
     ]
    },
    {
     "data": {
      "text/plain": [
       "array([ 1.66666667e-001, -1.72723371e-077,  1.48219694e-323,\n",
       "        0.00000000e+000,  0.00000000e+000])"
      ]
     },
     "execution_count": 48,
     "metadata": {},
     "output_type": "execute_result"
    }
   ],
   "source": [
    "np.random.seed(0)\n",
    "\n",
    "def compute_reciprocals(values):\n",
    "    output = np.empty(len(values))\n",
    "    for i in range(len(values)):\n",
    "        output[i] = 1.0 / values[i]\n",
    "        return output\n",
    "    \n",
    "values = np.random.randint(1, 10, size=5)\n",
    "print(values)\n",
    "compute_reciprocals(values)"
   ]
  },
  {
   "cell_type": "code",
   "execution_count": 49,
   "metadata": {},
   "outputs": [
    {
     "name": "stdout",
     "output_type": "stream",
     "text": [
      "34.8 µs ± 1.36 µs per loop (mean ± std. dev. of 7 runs, 10000 loops each)\n"
     ]
    }
   ],
   "source": [
    "big_array = np.random.randint(1, 100, size=1000000)\n",
    "%timeit compute_reciprocals(big_array)"
   ]
  },
  {
   "cell_type": "markdown",
   "metadata": {},
   "source": [
    "### 02.03.02 Introducing UFuncs"
   ]
  },
  {
   "cell_type": "code",
   "execution_count": 50,
   "metadata": {},
   "outputs": [
    {
     "name": "stdout",
     "output_type": "stream",
     "text": [
      "[ 1.66666667e-001 -1.72723371e-077  1.48219694e-323  0.00000000e+000\n",
      "  0.00000000e+000]\n",
      "[0.16666667 1.         0.25       0.25       0.125     ]\n"
     ]
    }
   ],
   "source": [
    "print(compute_reciprocals(values))\n",
    "print(1.0 / values)"
   ]
  },
  {
   "cell_type": "code",
   "execution_count": 51,
   "metadata": {},
   "outputs": [
    {
     "name": "stdout",
     "output_type": "stream",
     "text": [
      "4.1 ms ± 29.9 µs per loop (mean ± std. dev. of 7 runs, 100 loops each)\n"
     ]
    }
   ],
   "source": [
    "%timeit (1.0 / big_array)"
   ]
  },
  {
   "cell_type": "code",
   "execution_count": 52,
   "metadata": {},
   "outputs": [
    {
     "data": {
      "text/plain": [
       "array([0.        , 0.5       , 0.66666667, 0.75      , 0.8       ])"
      ]
     },
     "execution_count": 52,
     "metadata": {},
     "output_type": "execute_result"
    }
   ],
   "source": [
    "np.arange(5) / np.arange(1, 6)"
   ]
  },
  {
   "cell_type": "code",
   "execution_count": 53,
   "metadata": {},
   "outputs": [
    {
     "data": {
      "text/plain": [
       "array([[  1,   2,   4],\n",
       "       [  8,  16,  32],\n",
       "       [ 64, 128, 256]])"
      ]
     },
     "execution_count": 53,
     "metadata": {},
     "output_type": "execute_result"
    }
   ],
   "source": [
    "x = np.arange(9).reshape((3, 3))\n",
    "2 ** x"
   ]
  },
  {
   "cell_type": "markdown",
   "metadata": {},
   "source": [
    "### 02.03.03 Exploring NumPy's UFuncs"
   ]
  },
  {
   "cell_type": "markdown",
   "metadata": {},
   "source": [
    "#### 02.03.03.01 Array arithmetic"
   ]
  },
  {
   "cell_type": "code",
   "execution_count": 54,
   "metadata": {},
   "outputs": [
    {
     "name": "stdout",
     "output_type": "stream",
     "text": [
      "x\t= [0 1 2 3]\n",
      "x + 5\t= [5 6 7 8]\n",
      "x - 5\t= [-5 -4 -3 -2]\n",
      "x * 2\t= [0 2 4 6]\n",
      "x / 2\t= [0.  0.5 1.  1.5]\n",
      "x // 2\t= [0 0 1 1]\n",
      "-x\t= [ 0 -1 -2 -3]\n",
      "x ** 2\t= [0 1 4 9]\n",
      "x % 2\t= [0 1 0 1]\n",
      "-(0.5 * x + 1)**2\n",
      "\t= [-1.   -2.25 -4.   -6.25]\n"
     ]
    }
   ],
   "source": [
    "x = np.arange(4)\n",
    "print('x\\t= {}'.format(x))\n",
    "print('x + 5\\t= {}'.format(x+5))\n",
    "print('x - 5\\t= {}'.format(x-5))\n",
    "print('x * 2\\t= {}'.format(x*2))\n",
    "print('x / 2\\t= {}'.format(x/2))\n",
    "print('x // 2\\t= {}'.format(x//2))\n",
    "print('-x\\t= {}'.format(-x))\n",
    "print('x ** 2\\t= {}'.format(x ** 2))\n",
    "print('x % 2\\t= {}'.format(x % 2))\n",
    "print('-(0.5 * x + 1)**2\\n\\t= {}'.format(-(0.5*x+1)**2))"
   ]
  },
  {
   "cell_type": "code",
   "execution_count": 55,
   "metadata": {},
   "outputs": [
    {
     "name": "stdout",
     "output_type": "stream",
     "text": [
      "np.add(x, 5)\t\t= [5 6 7 8]\n",
      "np.subtract(x, 5)\t= [-5 -4 -3 -2]\n",
      "np.multiply(x, 2)\t= [0 2 4 6]\n",
      "np.divide(x, 2)\t\t= [0.  0.5 1.  1.5]\n",
      "np.floor_divide(x, 2)\t= [0 0 1 1]\n",
      "np.negative(x)\t\t= [ 0 -1 -2 -3]\n",
      "np.power(x, 2)\t\t= [0 1 4 9]\n",
      "np.mod(x, 2)\t\t= [0 1 0 1]\n",
      "np.negative(np.power(np.add(np.multiply(.5, x), 1), 2))\n",
      "\t\t\t= [-1.   -2.25 -4.   -6.25]\n"
     ]
    }
   ],
   "source": [
    "print('np.add(x, 5)\\t\\t= {}'.format(np.add(x, 5)))\n",
    "print('np.subtract(x, 5)\\t= {}'.format(np.subtract(x, 5)))\n",
    "print('np.multiply(x, 2)\\t= {}'.format(np.multiply(x, 2)))\n",
    "print('np.divide(x, 2)\\t\\t= {}'.format(np.divide(x, 2)))\n",
    "print('np.floor_divide(x, 2)\\t= {}'.format(np.floor_divide(x, 2)))\n",
    "print('np.negative(x)\\t\\t= {}'.format(np.negative(x)))\n",
    "print('np.power(x, 2)\\t\\t= {}'.format(np.power(x, 2)))\n",
    "print('np.mod(x, 2)\\t\\t= {}'.format(np.mod(x, 2)))\n",
    "print('np.negative(np.power(np.add(np.multiply(.5, x), 1), 2))\\n\\t\\t\\t= {}'.format(np.negative(np.power(np.add(np.multiply(.5, x), 1), 2))))"
   ]
  },
  {
   "cell_type": "markdown",
   "metadata": {},
   "source": [
    "#### 02.03.03.02 Absolute value"
   ]
  },
  {
   "cell_type": "code",
   "execution_count": 56,
   "metadata": {},
   "outputs": [
    {
     "name": "stdout",
     "output_type": "stream",
     "text": [
      "abs(x)\t\t= [2 1 0 1 2]\n",
      "np.absolute(x)\t= [2 1 0 1 2]\n",
      "np.abs(x)\t= [2 1 0 1 2]\n"
     ]
    }
   ],
   "source": [
    "x = np.array([-2, -1, 0, 1, 2])\n",
    "print('abs(x)\\t\\t= {}'.format(abs(x)))\n",
    "print('np.absolute(x)\\t= {}'.format(np.absolute(x)))\n",
    "print('np.abs(x)\\t= {}'.format(np.abs(x)))"
   ]
  },
  {
   "cell_type": "code",
   "execution_count": 57,
   "metadata": {},
   "outputs": [
    {
     "name": "stdout",
     "output_type": "stream",
     "text": [
      "np.abs(x)\t= [5. 5. 2. 1.]\n"
     ]
    }
   ],
   "source": [
    "x = np.array([3-4j, 4-3j, 2+0j, 0+1j])\n",
    "print('np.abs(x)\\t= {}'.format(np.abs(x)))"
   ]
  },
  {
   "cell_type": "markdown",
   "metadata": {},
   "source": [
    "#### 02.03.03.03 Trigometric functions"
   ]
  },
  {
   "cell_type": "code",
   "execution_count": 58,
   "metadata": {},
   "outputs": [
    {
     "name": "stdout",
     "output_type": "stream",
     "text": [
      "theta\t\t= [0.         1.57079633 3.14159265]\n",
      "np.sin(theta)\t= [0.0000000e+00 1.0000000e+00 1.2246468e-16]\n",
      "np.cos(theta)\t= [ 1.000000e+00  6.123234e-17 -1.000000e+00]\n",
      "np.tan(theta)\t= [ 0.00000000e+00  1.63312394e+16 -1.22464680e-16]\n"
     ]
    }
   ],
   "source": [
    "theta = np.linspace(0, np.pi, 3)\n",
    "print('theta\\t\\t= {}'.format(theta))\n",
    "print('np.sin(theta)\\t= {}'.format(np.sin(theta)))\n",
    "print('np.cos(theta)\\t= {}'.format(np.cos(theta)))\n",
    "print('np.tan(theta)\\t= {}'.format(np.tan(theta)))"
   ]
  },
  {
   "cell_type": "code",
   "execution_count": 59,
   "metadata": {},
   "outputs": [
    {
     "name": "stdout",
     "output_type": "stream",
     "text": [
      "x\t\t= [-1, 0, 1]\n",
      "p.arcsin(x)\t= [-1.57079633  0.          1.57079633]\n",
      "p.arccos(x)\t= [3.14159265 1.57079633 0.        ]\n",
      "p.arctan(x)\t= [-0.78539816  0.          0.78539816]\n"
     ]
    }
   ],
   "source": [
    "x = [-1, 0, 1]\n",
    "print('x\\t\\t= {}'.format(x))\n",
    "print('p.arcsin(x)\\t= {}'.format(np.arcsin(x)))\n",
    "print('p.arccos(x)\\t= {}'.format(np.arccos(x)))\n",
    "print('p.arctan(x)\\t= {}'.format(np.arctan(x)))"
   ]
  },
  {
   "cell_type": "markdown",
   "metadata": {},
   "source": [
    "#### 02.03.03.04 Exponents and logarithms"
   ]
  },
  {
   "cell_type": "code",
   "execution_count": 60,
   "metadata": {},
   "outputs": [
    {
     "name": "stdout",
     "output_type": "stream",
     "text": [
      "x\t= [1, 2, 3]\n",
      "e^x\t= [ 2.71828183  7.3890561  20.08553692]\n",
      "2^x\t= [2. 4. 8.]\n",
      "3^x\t= [ 3  9 27]\n"
     ]
    }
   ],
   "source": [
    "x = [1, 2, 3]\n",
    "print('x\\t= {}'.format(x))\n",
    "print('e^x\\t= {}'.format(np.exp(x)))\n",
    "print('2^x\\t= {}'.format(np.exp2(x)))\n",
    "print('3^x\\t= {}'.format(np.power(3, x)))"
   ]
  },
  {
   "cell_type": "code",
   "execution_count": 61,
   "metadata": {},
   "outputs": [
    {
     "name": "stdout",
     "output_type": "stream",
     "text": [
      "x\t= [1, 2, 4, 10]\n",
      "ln(x)\t= [0.         0.69314718 1.38629436 2.30258509]\n",
      "log2(x)\t= [0.         1.         2.         3.32192809]\n",
      "log10(x)= [0.         0.30103    0.60205999 1.        ]\n"
     ]
    }
   ],
   "source": [
    "x = [1, 2, 4, 10]\n",
    "print('x\\t= {}'.format(x))\n",
    "print('ln(x)\\t= {}'.format(np.log(x)))\n",
    "print('log2(x)\\t= {}'.format(np.log2(x)))\n",
    "print('log10(x)= {}'.format(np.log10(x)))"
   ]
  },
  {
   "cell_type": "code",
   "execution_count": 62,
   "metadata": {},
   "outputs": [
    {
     "name": "stdout",
     "output_type": "stream",
     "text": [
      "exp(x) - 1 = [0.         0.0010005  0.01005017 0.10517092]\n",
      "log(1 + x) = [0.         0.0009995  0.00995033 0.09531018]\n"
     ]
    }
   ],
   "source": [
    "x = [0, 0.001, 0.01, 0.1]\n",
    "print('exp(x) - 1 = {}'.format(np.expm1(x)))\n",
    "print('log(1 + x) = {}'.format(np.log1p(x)))"
   ]
  },
  {
   "cell_type": "markdown",
   "metadata": {},
   "source": [
    "#### 02.03.03.05 Specialized ufuncs"
   ]
  },
  {
   "cell_type": "code",
   "execution_count": 63,
   "metadata": {},
   "outputs": [
    {
     "name": "stdout",
     "output_type": "stream",
     "text": [
      "gamma(x)\t= [1.0000e+00 2.4000e+01 3.6288e+05]\n",
      "ln|gamma(x)|\t= [ 0.          3.17805383 12.80182748]\n",
      "beta(x, 2)\t= [0.5        0.03333333 0.00909091]\n"
     ]
    }
   ],
   "source": [
    "from scipy import special\n",
    "\n",
    "x = [1, 5, 10]\n",
    "print('gamma(x)\\t= {}'.format(special.gamma(x)))\n",
    "print('ln|gamma(x)|\\t= {}'.format(special.gammaln(x)))\n",
    "print('beta(x, 2)\\t= {}'.format(special.beta(x, 2)))"
   ]
  },
  {
   "cell_type": "code",
   "execution_count": 64,
   "metadata": {},
   "outputs": [
    {
     "name": "stdout",
     "output_type": "stream",
     "text": [
      "erf(x)\t\t= [0.         0.32862676 0.67780119 0.84270079]\n",
      "erfc(x)\t\t= [1.         0.67137324 0.32219881 0.15729921]\n",
      "erfinv(x)\t= [0.         0.27246271 0.73286908        inf]\n"
     ]
    }
   ],
   "source": [
    "x = np.array([0, 0.3, 0.7, 1.0])\n",
    "print('erf(x)\\t\\t= {}'.format(special.erf(x)))\n",
    "print('erfc(x)\\t\\t= {}'.format(special.erfc(x)))\n",
    "print('erfinv(x)\\t= {}'.format(special.erfinv(x)))"
   ]
  },
  {
   "cell_type": "markdown",
   "metadata": {},
   "source": [
    "### 02.03.04 Advanced Ufunc Features"
   ]
  },
  {
   "cell_type": "markdown",
   "metadata": {},
   "source": [
    "#### 02.03.04.01 Specifying output"
   ]
  },
  {
   "cell_type": "code",
   "execution_count": 65,
   "metadata": {},
   "outputs": [
    {
     "name": "stdout",
     "output_type": "stream",
     "text": [
      "y = [ 0. 10. 20. 30. 40.]\n"
     ]
    }
   ],
   "source": [
    "x = np.arange(5)\n",
    "y = np.empty(5)\n",
    "np.multiply(x, 10, out=y)\n",
    "print('y = {}'.format(y))"
   ]
  },
  {
   "cell_type": "code",
   "execution_count": 66,
   "metadata": {},
   "outputs": [
    {
     "name": "stdout",
     "output_type": "stream",
     "text": [
      "y = [ 1.  0.  2.  0.  4.  0.  8.  0. 16.  0.]\n"
     ]
    }
   ],
   "source": [
    "y = np.zeros(10)\n",
    "np.power(2, x, out=y[::2])\n",
    "print('y = {}'.format(y))"
   ]
  },
  {
   "cell_type": "code",
   "execution_count": 67,
   "metadata": {},
   "outputs": [
    {
     "name": "stdout",
     "output_type": "stream",
     "text": [
      "12.6 s ± 1.24 s per loop (mean ± std. dev. of 7 runs, 1 loop each)\n",
      "13.3 s ± 798 ms per loop (mean ± std. dev. of 7 runs, 1 loop each)\n"
     ]
    }
   ],
   "source": [
    "n = 100000000\n",
    "x = np.arange(n)\n",
    "y = np.zeros(n*2)\n",
    "%timeit y[::2] = 2 ** x\n",
    "%timeit np.power(2, x, out=y[::2])"
   ]
  },
  {
   "cell_type": "markdown",
   "metadata": {},
   "source": [
    "#### 02.03.04.02 Aggregates"
   ]
  },
  {
   "cell_type": "code",
   "execution_count": 68,
   "metadata": {},
   "outputs": [
    {
     "name": "stdout",
     "output_type": "stream",
     "text": [
      "np.add.reduce(x)\t\t= 15\n",
      "np.multiply.reduce(x)\t\t= 120\n",
      "np.add.accumulate(x)\t\t= [ 1  3  6 10 15]\n",
      "np.multiply.accumulate(x)\t= [  1   2   6  24 120]\n"
     ]
    }
   ],
   "source": [
    "x = np.arange(1, 6)\n",
    "print('np.add.reduce(x)\\t\\t= {}'.format(np.add.reduce(x)))\n",
    "print('np.multiply.reduce(x)\\t\\t= {}'.format(np.multiply.reduce(x)))\n",
    "print('np.add.accumulate(x)\\t\\t= {}'.format(np.add.accumulate(x)))\n",
    "print('np.multiply.accumulate(x)\\t= {}'.format(np.multiply.accumulate(x)))"
   ]
  },
  {
   "cell_type": "code",
   "execution_count": 69,
   "metadata": {},
   "outputs": [
    {
     "name": "stdout",
     "output_type": "stream",
     "text": [
      "np.sum(x)\t= 15\n",
      "np.prod(x)\t= 120\n",
      "np.cumsum(x)\t= [ 1  3  6 10 15]\n",
      "np.cumprod(x)\t= [  1   2   6  24 120]\n"
     ]
    }
   ],
   "source": [
    "print('np.sum(x)\\t= {}'.format(np.sum(x)))\n",
    "print('np.prod(x)\\t= {}'.format(np.prod(x)))\n",
    "print('np.cumsum(x)\\t= {}'.format(np.cumsum(x)))\n",
    "print('np.cumprod(x)\\t= {}'.format(np.cumprod(x)))"
   ]
  },
  {
   "cell_type": "markdown",
   "metadata": {},
   "source": [
    "#### 02.03.04.03 Outer products"
   ]
  },
  {
   "cell_type": "code",
   "execution_count": 70,
   "metadata": {},
   "outputs": [
    {
     "name": "stdout",
     "output_type": "stream",
     "text": [
      "np.multiply.outer(x, x)=\n",
      "[[ 1  2  3  4  5]\n",
      " [ 2  4  6  8 10]\n",
      " [ 3  6  9 12 15]\n",
      " [ 4  8 12 16 20]\n",
      " [ 5 10 15 20 25]]\n"
     ]
    }
   ],
   "source": [
    "x = np.arange(1, 6)\n",
    "print('np.multiply.outer(x, x)=\\n{}'.format(np.multiply.outer(x, x)))"
   ]
  },
  {
   "cell_type": "markdown",
   "metadata": {},
   "source": [
    "### 02.03.05 Ufuncs: Leanging More"
   ]
  },
  {
   "cell_type": "markdown",
   "metadata": {},
   "source": [
    "## 02.04 Aggregations: Min, Max, and Everything in Between"
   ]
  },
  {
   "cell_type": "markdown",
   "metadata": {},
   "source": [
    "### 02.04.01 Summing the Values in an Array"
   ]
  },
  {
   "cell_type": "code",
   "execution_count": 71,
   "metadata": {},
   "outputs": [
    {
     "name": "stdout",
     "output_type": "stream",
     "text": [
      "sum(L)\t\t= 47.27938395125176\n",
      "np.sum(L)\t= 47.279383951251766\n"
     ]
    }
   ],
   "source": [
    "np.random.seed(0)\n",
    "L = np.random.random(100)\n",
    "\n",
    "print('sum(L)\\t\\t= {}'.format(sum(L)))\n",
    "print('np.sum(L)\\t= {}'.format(np.sum(L)))"
   ]
  },
  {
   "cell_type": "code",
   "execution_count": 72,
   "metadata": {},
   "outputs": [
    {
     "name": "stdout",
     "output_type": "stream",
     "text": [
      "108 ms ± 5.6 ms per loop (mean ± std. dev. of 7 runs, 10 loops each)\n",
      "648 µs ± 31.9 µs per loop (mean ± std. dev. of 7 runs, 1000 loops each)\n"
     ]
    }
   ],
   "source": [
    "big_array = np.random.rand(1000000)\n",
    "%timeit sum(big_array)\n",
    "%timeit np.sum(big_array)"
   ]
  },
  {
   "cell_type": "markdown",
   "metadata": {},
   "source": [
    "### 02.04.02 Minimum and Maximum"
   ]
  },
  {
   "cell_type": "code",
   "execution_count": 73,
   "metadata": {},
   "outputs": [
    {
     "name": "stdout",
     "output_type": "stream",
     "text": [
      "79.2 ms ± 609 µs per loop (mean ± std. dev. of 7 runs, 10 loops each)\n",
      "80.7 ms ± 3.37 ms per loop (mean ± std. dev. of 7 runs, 10 loops each)\n",
      "623 µs ± 32.6 µs per loop (mean ± std. dev. of 7 runs, 1000 loops each)\n",
      "593 µs ± 3.35 µs per loop (mean ± std. dev. of 7 runs, 1000 loops each)\n"
     ]
    }
   ],
   "source": [
    "%timeit min(big_array)\n",
    "%timeit max(big_array)\n",
    "\n",
    "%timeit np.min(big_array)\n",
    "%timeit np.max(big_array)"
   ]
  },
  {
   "cell_type": "markdown",
   "metadata": {},
   "source": [
    "#### 02.04.02.01 Multidimensional aggregates"
   ]
  },
  {
   "cell_type": "code",
   "execution_count": 74,
   "metadata": {},
   "outputs": [
    {
     "name": "stdout",
     "output_type": "stream",
     "text": [
      "[[ 0  1  2  3]\n",
      " [ 4  5  6  7]\n",
      " [ 8  9 10 11]]\n",
      "M.sum()\t\t= 66\n",
      "M.sum(axis=0)\t= [12 15 18 21]\n",
      "M.min(axis=0)\t= [0 1 2 3]\n",
      "M.max(axis=1)\t= [ 3  7 11]\n"
     ]
    }
   ],
   "source": [
    "np.random.seed(0)\n",
    "M = np.random.random((3, 4))\n",
    "M = np.arange(12).reshape((3, 4))\n",
    "print(M)\n",
    "\n",
    "print('M.sum()\\t\\t= {}'.format(M.sum()))\n",
    "print('M.sum(axis=0)\\t= {}'.format(M.sum(axis=0)))\n",
    "\n",
    "print('M.min(axis=0)\\t= {}'.format(M.min(axis=0)))\n",
    "print('M.max(axis=1)\\t= {}'.format(M.max(axis=1)))"
   ]
  },
  {
   "cell_type": "markdown",
   "metadata": {},
   "source": [
    "#### 02.04.02.02 Other aggregation functions"
   ]
  },
  {
   "cell_type": "code",
   "execution_count": 75,
   "metadata": {},
   "outputs": [
    {
     "name": "stdout",
     "output_type": "stream",
     "text": [
      "x\t\t\t= [0 1 2 3 4]\n",
      "np.sum(x)\t\t= 10\n",
      "np.prod(x)\t\t= 0\n",
      "np.mean(x)\t\t= 2.0\n",
      "np.std(x)\t\t= 1.4142135623730951\n",
      "np.var(x)\t\t= 2.0\n",
      "np.min(x)\t\t= 0\n",
      "np.max(x)\t\t= 4\n",
      "np.argmin(x)\t\t= 0\n",
      "np.argmax(x)\t\t= 4\n",
      "np.median(x)\t\t= 2.0\n",
      "np.percentile(x, 25)\t= 1.0\n",
      "np.any(y)\t\t= True\n",
      "np.all(y)\t\t= False\n"
     ]
    }
   ],
   "source": [
    "x = np.arange(5)\n",
    "y = np.array([True, False, True, True, False])\n",
    "print('x\\t\\t\\t= {}'.format(x))\n",
    "print('np.sum(x)\\t\\t= {}'.format(np.sum(x)))\n",
    "print('np.prod(x)\\t\\t= {}'.format(np.prod(x)))\n",
    "print('np.mean(x)\\t\\t= {}'.format(np.mean(x)))\n",
    "print('np.std(x)\\t\\t= {}'.format(np.std(x)))\n",
    "print('np.var(x)\\t\\t= {}'.format(np.var(x)))\n",
    "print('np.min(x)\\t\\t= {}'.format(np.min(x)))\n",
    "print('np.max(x)\\t\\t= {}'.format(np.max(x)))\n",
    "print('np.argmin(x)\\t\\t= {}'.format(np.argmin(x)))\n",
    "print('np.argmax(x)\\t\\t= {}'.format(np.argmax(x)))\n",
    "print('np.median(x)\\t\\t= {}'.format(np.median(x)))\n",
    "print('np.percentile(x, 25)\\t= {}'.format(np.percentile(x, 25)))\n",
    "print('np.any(y)\\t\\t= {}'.format(np.any(y)))\n",
    "print('np.all(y)\\t\\t= {}'.format(np.all(y)))"
   ]
  },
  {
   "cell_type": "markdown",
   "metadata": {},
   "source": [
    "### 02.04.03 Example: What Is the Average Height of US Presidents?"
   ]
  },
  {
   "cell_type": "code",
   "execution_count": 76,
   "metadata": {},
   "outputs": [
    {
     "name": "stdout",
     "output_type": "stream",
     "text": [
      "[189 170 189 163 183 171 185 168 173 183 173 173 175 178 183 193 178 173\n",
      " 174 183 183 168 170 178 182 180 183 178 182 188 175 179 183 193 182 183\n",
      " 177 185 188 188 182 185]\n"
     ]
    }
   ],
   "source": [
    "url = 'https://raw.githubusercontent.com/jakevdp/PythonDataScienceHandbook/master/notebooks/data/president_heights.csv'\n",
    "data = pd.read_csv(url)\n",
    "heights = np.array(data['height(cm)'])\n",
    "print(heights)"
   ]
  },
  {
   "cell_type": "code",
   "execution_count": 77,
   "metadata": {},
   "outputs": [
    {
     "name": "stdout",
     "output_type": "stream",
     "text": [
      "Mean height:\t\t179.73809523809524\n",
      "Standard deviation:\t6.931843442745892\n",
      "Minimum height:\t\t163\n",
      "Maximum height:\t\t193\n"
     ]
    }
   ],
   "source": [
    "print('Mean height:\\t\\t{}'.format(heights.mean()))\n",
    "print('Standard deviation:\\t{}'.format(heights.std()))\n",
    "print('Minimum height:\\t\\t{}'.format(heights.min()))\n",
    "print('Maximum height:\\t\\t{}'.format(heights.max()))"
   ]
  },
  {
   "cell_type": "code",
   "execution_count": 78,
   "metadata": {},
   "outputs": [
    {
     "name": "stdout",
     "output_type": "stream",
     "text": [
      "25th percentile:\t174.25\n",
      "Median:\t\t\t182.0\n",
      "75th percentile:\t183.0\n"
     ]
    }
   ],
   "source": [
    "print('25th percentile:\\t{}'.format(np.percentile(heights, 25)))\n",
    "print('Median:\\t\\t\\t{}'.format(np.median(heights)))\n",
    "print('75th percentile:\\t{}'.format(np.percentile(heights, 75)))"
   ]
  },
  {
   "cell_type": "code",
   "execution_count": 79,
   "metadata": {},
   "outputs": [
    {
     "data": {
      "image/png": "[encoded data removed]",
      "text/plain": [
       "<Figure size 360x360 with 1 Axes>"
      ]
     },
     "metadata": {
      "needs_background": "light"
     },
     "output_type": "display_data"
    }
   ],
   "source": [
    "import seaborn \n",
    "\n",
    "fig, ax = plt.subplots(figsize=(5,5))\n",
    "ax.hist(heights)\n",
    "ax.set_title('Height Distribution of US Presidents')\n",
    "ax.set_xlabel('height (cm)')\n",
    "ax.set_ylabel('number')\n",
    "ax.grid(True)\n",
    "\n",
    "plt.tight_layout()\n",
    "plt.show()"
   ]
  },
  {
   "cell_type": "markdown",
   "metadata": {},
   "source": [
    "## 02.05 Computation on Arrays: Broadcasting"
   ]
  },
  {
   "cell_type": "markdown",
   "metadata": {},
   "source": [
    "### 02.05.01 Introducing Broadcasting"
   ]
  },
  {
   "cell_type": "code",
   "execution_count": 80,
   "metadata": {},
   "outputs": [
    {
     "data": {
      "text/plain": [
       "array([5, 6, 7])"
      ]
     },
     "execution_count": 80,
     "metadata": {},
     "output_type": "execute_result"
    }
   ],
   "source": [
    "a = np.array([0, 1, 2])\n",
    "b = np.array([5, 5, 5])\n",
    "a + b "
   ]
  },
  {
   "cell_type": "code",
   "execution_count": 81,
   "metadata": {},
   "outputs": [
    {
     "data": {
      "text/plain": [
       "array([5, 6, 7])"
      ]
     },
     "execution_count": 81,
     "metadata": {},
     "output_type": "execute_result"
    }
   ],
   "source": [
    "a + 5"
   ]
  },
  {
   "cell_type": "code",
   "execution_count": 82,
   "metadata": {},
   "outputs": [
    {
     "data": {
      "text/plain": [
       "array([[1., 2., 3.],\n",
       "       [1., 2., 3.],\n",
       "       [1., 2., 3.]])"
      ]
     },
     "execution_count": 82,
     "metadata": {},
     "output_type": "execute_result"
    }
   ],
   "source": [
    "M = np.ones((3, 3))\n",
    "M + a"
   ]
  },
  {
   "cell_type": "code",
   "execution_count": 83,
   "metadata": {},
   "outputs": [
    {
     "name": "stdout",
     "output_type": "stream",
     "text": [
      "[0 1 2]\n",
      "[[0]\n",
      " [1]\n",
      " [2]]\n"
     ]
    }
   ],
   "source": [
    "a = np.arange(3)\n",
    "b = np.arange(3)[:, np.newaxis]\n",
    "print(a)\n",
    "print(b)"
   ]
  },
  {
   "cell_type": "code",
   "execution_count": 84,
   "metadata": {},
   "outputs": [
    {
     "data": {
      "text/plain": [
       "array([[0, 1, 2],\n",
       "       [1, 2, 3],\n",
       "       [2, 3, 4]])"
      ]
     },
     "execution_count": 84,
     "metadata": {},
     "output_type": "execute_result"
    }
   ],
   "source": [
    "a + b"
   ]
  },
  {
   "cell_type": "markdown",
   "metadata": {},
   "source": [
    "### 02.05.02 Rules of Broadcasting"
   ]
  },
  {
   "cell_type": "markdown",
   "metadata": {},
   "source": [
    "#### 02.05.02.01 Broadcasting example 1"
   ]
  },
  {
   "cell_type": "code",
   "execution_count": 85,
   "metadata": {},
   "outputs": [
    {
     "name": "stdout",
     "output_type": "stream",
     "text": [
      "M =\n",
      "[[1. 1. 1.]\n",
      " [1. 1. 1.]]\n",
      "\n",
      "a =\n",
      "[0 1 2]\n",
      "\n",
      "M.shape = (2, 3)\n",
      "a.shape = (3,)\n",
      "\n",
      "M + a =\n",
      "[[1. 2. 3.]\n",
      " [1. 2. 3.]]\n"
     ]
    }
   ],
   "source": [
    "M = np.ones((2, 3))\n",
    "a = np.arange(3)\n",
    "\n",
    "print('M =\\n{}\\n'.format(M))\n",
    "print('a =\\n{}\\n'.format(a))\n",
    "print('M.shape = {}'.format(M.shape))\n",
    "print('a.shape = {}\\n'.format(a.shape))\n",
    "print('M + a =\\n{}'.format(M+a))"
   ]
  },
  {
   "cell_type": "code",
   "execution_count": 86,
   "metadata": {},
   "outputs": [
    {
     "name": "stdout",
     "output_type": "stream",
     "text": [
      "a_shape = (1, 3)\n",
      "M + a_ =\n",
      "[[1. 2. 3.]\n",
      " [1. 2. 3.]]\n"
     ]
    }
   ],
   "source": [
    "a_ = np.arange(3).reshape((1,3))\n",
    "print('a_shape = {}'.format(a_.shape))\n",
    "print('M + a_ =\\n{}'.format(M+a_))"
   ]
  },
  {
   "cell_type": "markdown",
   "metadata": {},
   "source": [
    "#### 02.05.02.02 Broadcasting example 2"
   ]
  },
  {
   "cell_type": "code",
   "execution_count": 87,
   "metadata": {},
   "outputs": [
    {
     "name": "stdout",
     "output_type": "stream",
     "text": [
      "a = \n",
      "[[0]\n",
      " [1]\n",
      " [2]]\n",
      "b = \n",
      "[0 1 2]\n",
      "\n",
      "a.shape = (3, 1)\n",
      "b.shape = (3,)\n",
      "\n",
      "a + b = \n",
      "[[0 1 2]\n",
      " [1 2 3]\n",
      " [2 3 4]]\n"
     ]
    }
   ],
   "source": [
    "a = np.arange(3).reshape((3, 1))\n",
    "b = np.arange(3)\n",
    "print('a = \\n{}'.format(a))\n",
    "print('b = \\n{}\\n'.format(b))\n",
    "print('a.shape = {}'.format(a.shape))\n",
    "print('b.shape = {}\\n'.format(b.shape))\n",
    "print('a + b = \\n{}'.format(a+b))"
   ]
  },
  {
   "cell_type": "markdown",
   "metadata": {},
   "source": [
    "#### 02.05.02.03 Broadcasting example 3"
   ]
  },
  {
   "cell_type": "code",
   "execution_count": 88,
   "metadata": {},
   "outputs": [
    {
     "name": "stdout",
     "output_type": "stream",
     "text": [
      "M =\n",
      "[[1. 1.]\n",
      " [1. 1.]\n",
      " [1. 1.]]\n",
      "a =\n",
      "[0 1 2]\n",
      "\n",
      "M.shape = (3, 2)\n",
      "a.shape = (3,)\n",
      "\n"
     ]
    },
    {
     "ename": "ValueError",
     "evalue": "operands could not be broadcast together with shapes (3,2) (3,) ",
     "output_type": "error",
     "traceback": [
      "\u001b[0;31m---------------------------------------------------------------------------\u001b[0m",
      "\u001b[0;31mValueError\u001b[0m                                Traceback (most recent call last)",
      "\u001b[0;32m<ipython-input-88-37dbae0f68af>\u001b[0m in \u001b[0;36m<module>\u001b[0;34m\u001b[0m\n\u001b[1;32m      6\u001b[0m \u001b[0mprint\u001b[0m\u001b[0;34m(\u001b[0m\u001b[0;34m'M.shape = {}'\u001b[0m\u001b[0;34m.\u001b[0m\u001b[0mformat\u001b[0m\u001b[0;34m(\u001b[0m\u001b[0mM\u001b[0m\u001b[0;34m.\u001b[0m\u001b[0mshape\u001b[0m\u001b[0;34m)\u001b[0m\u001b[0;34m)\u001b[0m\u001b[0;34m\u001b[0m\u001b[0m\n\u001b[1;32m      7\u001b[0m \u001b[0mprint\u001b[0m\u001b[0;34m(\u001b[0m\u001b[0;34m'a.shape = {}\\n'\u001b[0m\u001b[0;34m.\u001b[0m\u001b[0mformat\u001b[0m\u001b[0;34m(\u001b[0m\u001b[0ma\u001b[0m\u001b[0;34m.\u001b[0m\u001b[0mshape\u001b[0m\u001b[0;34m)\u001b[0m\u001b[0;34m)\u001b[0m\u001b[0;34m\u001b[0m\u001b[0m\n\u001b[0;32m----> 8\u001b[0;31m \u001b[0mprint\u001b[0m\u001b[0;34m(\u001b[0m\u001b[0;34m'M + a =\\n{}'\u001b[0m\u001b[0;34m.\u001b[0m\u001b[0mformat\u001b[0m\u001b[0;34m(\u001b[0m\u001b[0mM\u001b[0m\u001b[0;34m+\u001b[0m\u001b[0ma\u001b[0m\u001b[0;34m)\u001b[0m\u001b[0;34m)\u001b[0m\u001b[0;34m\u001b[0m\u001b[0m\n\u001b[0m",
      "\u001b[0;31mValueError\u001b[0m: operands could not be broadcast together with shapes (3,2) (3,) "
     ]
    }
   ],
   "source": [
    "M = np.ones((3, 2))\n",
    "a = np.arange(3)\n",
    "\n",
    "print('M =\\n{}'.format(M))\n",
    "print('a =\\n{}\\n'.format(a))\n",
    "print('M.shape = {}'.format(M.shape))\n",
    "print('a.shape = {}\\n'.format(a.shape))\n",
    "print('M + a =\\n{}'.format(M+a))"
   ]
  },
  {
   "cell_type": "markdown",
   "metadata": {},
   "source": [
    "### 02.05.03 Broadcasting in Practice"
   ]
  },
  {
   "cell_type": "markdown",
   "metadata": {},
   "source": [
    "#### 02.05.03.01 Centering an array"
   ]
  },
  {
   "cell_type": "code",
   "execution_count": 89,
   "metadata": {},
   "outputs": [
    {
     "name": "stdout",
     "output_type": "stream",
     "text": [
      "Xmean = [0.52101579 0.62614181 0.59620338]\n"
     ]
    }
   ],
   "source": [
    "np.random.seed(0)\n",
    "X = np.random.random((10, 3))\n",
    "Xmean = X.mean(0)\n",
    "# print('X =\\n{}'.format(X))\n",
    "print('Xmean = {}'.format(Xmean))"
   ]
  },
  {
   "cell_type": "code",
   "execution_count": 90,
   "metadata": {},
   "outputs": [
    {
     "name": "stdout",
     "output_type": "stream",
     "text": [
      "X_centered.mean(0) = [1.11022302e-17 1.22124533e-16 3.33066907e-17]\n"
     ]
    }
   ],
   "source": [
    "X_centered = X - Xmean\n",
    "print('X_centered.mean(0) = {}'.format(X_centered.mean(0)))"
   ]
  },
  {
   "cell_type": "markdown",
   "metadata": {},
   "source": [
    "#### 02.05.03.02 Plotting a two-dimensional function"
   ]
  },
  {
   "cell_type": "code",
   "execution_count": 91,
   "metadata": {},
   "outputs": [
    {
     "data": {
      "image/png": "[encoded data removed]",
      "text/plain": [
       "<Figure size 360x360 with 1 Axes>"
      ]
     },
     "metadata": {
      "needs_background": "light"
     },
     "output_type": "display_data"
    }
   ],
   "source": [
    "x = np.linspace(0, 5, 50)\n",
    "y = np.linspace(0, 5, 50)[:, np.newaxis]\n",
    "z = np.sin(x) ** 10 + np.cos(10 + y * x) * np.cos(x)\n",
    "\n",
    "fig, ax = plt.subplots(figsize=(5,5))\n",
    "ax.imshow(z, origin='lower', extent=[0, 5, 0, 5], cmap='viridis')\n",
    "# fig.colorbar()\n",
    "plt.tight_layout()\n",
    "plt.show()"
   ]
  },
  {
   "cell_type": "markdown",
   "metadata": {},
   "source": [
    "## 02.06 Comparisons, Masks, and Boolean Logic"
   ]
  },
  {
   "cell_type": "markdown",
   "metadata": {},
   "source": [
    "### 02.06.01 Example: Counting Rainy Days"
   ]
  },
  {
   "cell_type": "code",
   "execution_count": 92,
   "metadata": {},
   "outputs": [
    {
     "data": {
      "text/plain": [
       "(365,)"
      ]
     },
     "execution_count": 92,
     "metadata": {},
     "output_type": "execute_result"
    }
   ],
   "source": [
    "url = 'https://raw.githubusercontent.com/jakevdp/PythonDataScienceHandbook/master/notebooks/data/Seattle2014.csv'\n",
    "rainfall = pd.read_csv(url)['PRCP'].values\n",
    "inches = rainfall / 254\n",
    "inches.shape"
   ]
  },
  {
   "cell_type": "code",
   "execution_count": 93,
   "metadata": {},
   "outputs": [
    {
     "data": {
      "image/png": "[encoded data removed]",
      "text/plain": [
       "<Figure size 576x324 with 1 Axes>"
      ]
     },
     "metadata": {
      "needs_background": "light"
     },
     "output_type": "display_data"
    }
   ],
   "source": [
    "fig, ax = plt.subplots(figsize=(8,4.5))\n",
    "ax.hist(inches, 40)\n",
    "ax.grid()\n",
    "plt.tight_layout()\n",
    "plt.show()"
   ]
  },
  {
   "cell_type": "markdown",
   "metadata": {},
   "source": [
    "#### 02.06.01.01 Digging into the data"
   ]
  },
  {
   "cell_type": "markdown",
   "metadata": {},
   "source": [
    "### 02.06.02 Comparison Operators as ufuncs"
   ]
  },
  {
   "cell_type": "code",
   "execution_count": 94,
   "metadata": {},
   "outputs": [
    {
     "name": "stdout",
     "output_type": "stream",
     "text": [
      "x < 3\n",
      "[ True  True False False False]\n",
      "x > 3\n",
      "[False False False  True  True]\n",
      "x <= 3\n",
      "[ True  True  True False False]\n",
      "x >= 3\n",
      "[False False  True  True  True]\n",
      "x != 3\n",
      "[ True  True False  True  True]\n",
      "x == 3\n",
      "[False False  True False False]\n",
      "(2 * x) == (x ** 2)\n",
      "[False  True False False False]\n"
     ]
    }
   ],
   "source": [
    "x = np.array([1, 2, 3, 4, 5])\n",
    "print('x < 3\\n{}'.format(x<3))\n",
    "print('x > 3\\n{}'.format(x>3))\n",
    "print('x <= 3\\n{}'.format(x<=3))\n",
    "print('x >= 3\\n{}'.format(x>=3))\n",
    "print('x != 3\\n{}'.format(x!=3))\n",
    "print('x == 3\\n{}'.format(x==3))\n",
    "print('(2 * x) == (x ** 2)\\n{}'.format((2*x)==(x**2)))"
   ]
  },
  {
   "cell_type": "code",
   "execution_count": 95,
   "metadata": {},
   "outputs": [
    {
     "name": "stdout",
     "output_type": "stream",
     "text": [
      "x\n",
      "[[5 0 3 3]\n",
      " [7 9 3 5]\n",
      " [2 4 7 6]]\n",
      "x < 6\n",
      "[[ True  True  True  True]\n",
      " [False False  True  True]\n",
      " [ True  True False False]]\n"
     ]
    }
   ],
   "source": [
    "rng = np.random.RandomState(0)\n",
    "x = rng.randint(10, size=(3,4))\n",
    "print('x\\n{}'.format(x))\n",
    "print('x < 6\\n{}'.format(x<6))"
   ]
  },
  {
   "cell_type": "markdown",
   "metadata": {},
   "source": [
    "### 02.06.03 Working with Boolean Arrays"
   ]
  },
  {
   "cell_type": "code",
   "execution_count": 96,
   "metadata": {},
   "outputs": [
    {
     "name": "stdout",
     "output_type": "stream",
     "text": [
      "[[5 0 3 3]\n",
      " [7 9 3 5]\n",
      " [2 4 7 6]]\n"
     ]
    }
   ],
   "source": [
    "print(x)"
   ]
  },
  {
   "cell_type": "markdown",
   "metadata": {},
   "source": [
    "#### 02.06.03.01 Counting entries"
   ]
  },
  {
   "cell_type": "code",
   "execution_count": 97,
   "metadata": {},
   "outputs": [
    {
     "name": "stdout",
     "output_type": "stream",
     "text": [
      "num of vals less than 6 is\n",
      "8\n"
     ]
    }
   ],
   "source": [
    "print('num of vals less than 6 is\\n{}'.format(np.count_nonzero(x < 6)))"
   ]
  },
  {
   "cell_type": "code",
   "execution_count": 98,
   "metadata": {},
   "outputs": [
    {
     "name": "stdout",
     "output_type": "stream",
     "text": [
      "num of vals less than 6 is\n",
      "8\n"
     ]
    }
   ],
   "source": [
    "print('num of vals less than 6 is\\n{}'.format(np.sum(x < 6)))"
   ]
  },
  {
   "cell_type": "code",
   "execution_count": 99,
   "metadata": {},
   "outputs": [
    {
     "name": "stdout",
     "output_type": "stream",
     "text": [
      "num of vals in rows less than 6 is\n",
      "[4 2 2]\n"
     ]
    }
   ],
   "source": [
    "print('num of vals in rows less than 6 is\\n{}'.format(np.sum(x < 6, axis=1)))"
   ]
  },
  {
   "cell_type": "code",
   "execution_count": 100,
   "metadata": {},
   "outputs": [
    {
     "name": "stdout",
     "output_type": "stream",
     "text": [
      "are there any vals greater than 8:\n",
      "True\n"
     ]
    }
   ],
   "source": [
    "print('are there any vals greater than 8:\\n{}'.format(np.any(x > 8)))"
   ]
  },
  {
   "cell_type": "code",
   "execution_count": 101,
   "metadata": {},
   "outputs": [
    {
     "name": "stdout",
     "output_type": "stream",
     "text": [
      "are there any vals less than 0:\n",
      "False\n"
     ]
    }
   ],
   "source": [
    "print('are there any vals less than 0:\\n{}'.format(np.any(x < 0)))"
   ]
  },
  {
   "cell_type": "code",
   "execution_count": 102,
   "metadata": {},
   "outputs": [
    {
     "name": "stdout",
     "output_type": "stream",
     "text": [
      "are all vals less than 10:\n",
      "True\n"
     ]
    }
   ],
   "source": [
    "print('are all vals less than 10:\\n{}'.format(np.all(x < 10)))"
   ]
  },
  {
   "cell_type": "code",
   "execution_count": 103,
   "metadata": {},
   "outputs": [
    {
     "name": "stdout",
     "output_type": "stream",
     "text": [
      "are all vals equal to 6:\n",
      "False\n"
     ]
    }
   ],
   "source": [
    "print('are all vals equal to 6:\\n{}'.format(np.all(x == 6)))"
   ]
  },
  {
   "cell_type": "code",
   "execution_count": 104,
   "metadata": {},
   "outputs": [
    {
     "name": "stdout",
     "output_type": "stream",
     "text": [
      "are all vals in each row less than 8:\n",
      "[ True False  True]\n"
     ]
    }
   ],
   "source": [
    "print('are all vals in each row less than 8:\\n{}'.format(np.all(x < 8, axis=1)))"
   ]
  },
  {
   "cell_type": "code",
   "execution_count": null,
   "metadata": {},
   "outputs": [],
   "source": []
  }
 ],
 "metadata": {
  "kernelspec": {
   "display_name": "Python 3",
   "language": "python",
   "name": "python3"
  },
  "language_info": {
   "codemirror_mode": {
    "name": "ipython",
    "version": 3
   },
   "file_extension": ".py",
   "mimetype": "text/x-python",
   "name": "python",
   "nbconvert_exporter": "python",
   "pygments_lexer": "ipython3",
   "version": "3.6.5"
  }
 },
 "nbformat": 4,
 "nbformat_minor": 2
}
