{
 "cells": [
  {
   "cell_type": "markdown",
   "metadata": {},
   "source": [
    "# 02 Introduction to Numpy"
   ]
  },
  {
   "cell_type": "markdown",
   "metadata": {},
   "source": [
    "## Contents\n",
    "\n",
    "- [02.01 Understanding Data Types in Python](#0201-Understanding-Data-Types-in-Python)\n",
    "    - [02.01.01 A Python Interger Is More Than Just an Integer](#020101-A-Python-Interger-Is-More-Than-Just-an-Integer)\n",
    "    - [02.01.02 A Python List Is More Than Just a List](#020102-A-Python-List-Is-More-Than-Just-a-List)\n",
    "    - [02.01.03 Fixed-Type Arrays in Python](#020103-Fixed-Type-Arrays-in-Python)\n",
    "    - [02.01.04 Creating Arrays from Python Lists](#020104-Creating-Arrays-from-Python-Lists)\n",
    "    - [02.01.05 Creating Arrays from Scratch](#020105-Creating-Arrays-from-Scratch)\n",
    "    - [02.01.06 NumPy Standard Data Types](#020106-NumPy-Standard-Data-Types)\n",
    "- [02.02 The Basics of Numpy Arrays](#0202-The-Basics-of-Numpy-Arrays)\n",
    "- [02.03 Computation on Numpy Arrays: Universal Functions](#0203-Computation-on-Numpy-Arrays-Universal-Functions)\n",
    "- [02.04 Aggregations: Min, Max, and Everything in Between](#0204-Aggregations-Min,-Max,-and-Everything-in-Between)\n",
    "- [02.05 Computation on Arrays: Broadcasting](#0405-Computation-on-Arrays-Broadcasting)\n",
    "- [02.06 Comparisons, Masks, and Boolean Logic](#0406-Comparisons,-Masks,-and-Boolean-Logic)\n",
    "- [02.07 Fancy Indexing](#0407-Fancy-Indexing)\n",
    "- [02.08 Sorting Arrays](#0408-Sorting-Arrays)\n",
    "- [02.09 Structured Data: NumPy's Structured Arrays](#0209-Structured-Data-NumPy's-Structured-Arrays)"
   ]
  },
  {
   "cell_type": "code",
   "execution_count": 2,
   "metadata": {},
   "outputs": [
    {
     "name": "stdout",
     "output_type": "stream",
     "text": [
      "2019-3-31 16:44:49\n",
      "----------------------\n",
      "numpy\t\t1.15.2\n",
      "scipy\t\t1.1.0\n",
      "pandas\t\t0.24.1\n",
      "matplotlib\t3.0.0\n",
      "----------------------\n",
      "ipython\t\t7.2.0\n",
      "----------------------\n",
      "sklearn\t\t0.20.0\n"
     ]
    }
   ],
   "source": [
    "# import\n",
    "import numpy as np\n",
    "import scipy\n",
    "import pandas as pd\n",
    "import matplotlib\n",
    "import matplotlib.pyplot as plt\n",
    "import IPython\n",
    "import networkx as nx\n",
    "import sklearn\n",
    "\n",
    "from IPython.display import Image\n",
    "%matplotlib inline\n",
    "\n",
    "import datetime\n",
    "dt = datetime.datetime.now()\n",
    "\n",
    "print(\n",
    "\"\"\"{}-{}-{} {}:{}:{}\n",
    "----------------------\n",
    "numpy\\t\\t{}\n",
    "scipy\\t\\t{}\n",
    "pandas\\t\\t{}\n",
    "matplotlib\\t{}\n",
    "----------------------\n",
    "ipython\\t\\t{}\n",
    "----------------------\n",
    "sklearn\\t\\t{}\"\"\"\n",
    "    .format(dt.year, dt.month, dt.day, dt.hour, dt.minute, dt.second, np.__version__, scipy.__version__, pd.__version__, matplotlib.__version__, IPython.__version__, sklearn.__version__))"
   ]
  },
  {
   "cell_type": "markdown",
   "metadata": {},
   "source": [
    "## 02.01 Understanding Data Types in Python"
   ]
  },
  {
   "cell_type": "code",
   "execution_count": 6,
   "metadata": {},
   "outputs": [
    {
     "name": "stdout",
     "output_type": "stream",
     "text": [
      "result: 100\n",
      "type: <class 'int'>\n"
     ]
    }
   ],
   "source": [
    "result = 0\n",
    "for i in range(100):\n",
    "    result += 1\n",
    "\n",
    "print('result: {}\\ntype: {}'.format(result, type(result)))"
   ]
  },
  {
   "cell_type": "code",
   "execution_count": 7,
   "metadata": {},
   "outputs": [
    {
     "name": "stdout",
     "output_type": "stream",
     "text": [
      "type: <class 'int'>\n",
      "type: <class 'str'>\n"
     ]
    }
   ],
   "source": [
    "x = 4\n",
    "print('type: {}'.format(type(x)))\n",
    "x = 'four'\n",
    "print('type: {}'.format(type(x)))"
   ]
  },
  {
   "cell_type": "markdown",
   "metadata": {},
   "source": [
    "### 02.01.01 A Python Interger Is More Than Just an Integer"
   ]
  },
  {
   "cell_type": "markdown",
   "metadata": {},
   "source": [
    "### 02.01.02 A Python List Is More Than Just a List"
   ]
  },
  {
   "cell_type": "code",
   "execution_count": 12,
   "metadata": {},
   "outputs": [
    {
     "name": "stdout",
     "output_type": "stream",
     "text": [
      "L: [0, 1, 2, 3, 4, 5, 6, 7, 8, 9]\n",
      "type: <class 'int'>\n"
     ]
    }
   ],
   "source": [
    "L = list(range(10))\n",
    "print('L: {}'.format(L))\n",
    "print('type: {}'.format(type(L[0])))"
   ]
  },
  {
   "cell_type": "code",
   "execution_count": 14,
   "metadata": {},
   "outputs": [
    {
     "name": "stdout",
     "output_type": "stream",
     "text": [
      "L2: ['0', '1', '2', '3', '4', '5', '6', '7', '8', '9']\n",
      "type: <class 'str'>\n"
     ]
    }
   ],
   "source": [
    "L2 = [str(c) for c in L]\n",
    "print('L2: {}'.format(L2))\n",
    "print('type: {}'.format(type(L2[0])))"
   ]
  },
  {
   "cell_type": "code",
   "execution_count": 15,
   "metadata": {},
   "outputs": [
    {
     "name": "stdout",
     "output_type": "stream",
     "text": [
      "type: [<class 'bool'>, <class 'str'>, <class 'float'>, <class 'int'>]\n"
     ]
    }
   ],
   "source": [
    "L3 = [True, '2', 3.0, 4]\n",
    "print('type: {}'.format([type(item) for item in L3]))"
   ]
  },
  {
   "cell_type": "markdown",
   "metadata": {},
   "source": [
    "### 02.01.03 Fixed-Type Arrays in Python"
   ]
  },
  {
   "cell_type": "code",
   "execution_count": 16,
   "metadata": {},
   "outputs": [
    {
     "name": "stdout",
     "output_type": "stream",
     "text": [
      "array('i', [0, 1, 2, 3, 4, 5, 6, 7, 8, 9])\n",
      "type: <class 'int'>\n"
     ]
    }
   ],
   "source": [
    "import array\n",
    "L = list(range(10))\n",
    "A = array.array('i', L)\n",
    "print(A)\n",
    "print('type: {}'.format(type(A[0])))"
   ]
  },
  {
   "cell_type": "markdown",
   "metadata": {},
   "source": [
    "### 02.01.04 Creating Arrays from Python Lists"
   ]
  },
  {
   "cell_type": "code",
   "execution_count": 3,
   "metadata": {},
   "outputs": [
    {
     "name": "stdout",
     "output_type": "stream",
     "text": [
      "[ 1  2  3  5  8 13]\n"
     ]
    }
   ],
   "source": [
    "L = np.array([1, 2, 3, 5, 8, 13])\n",
    "print(L)"
   ]
  },
  {
   "cell_type": "code",
   "execution_count": 4,
   "metadata": {},
   "outputs": [
    {
     "name": "stdout",
     "output_type": "stream",
     "text": [
      "[ 1.  2.  3.  5.  8. 13.]\n"
     ]
    }
   ],
   "source": [
    "L = np.array([1, 2, 3, 5.0, 8, 13])\n",
    "print(L)"
   ]
  },
  {
   "cell_type": "code",
   "execution_count": 5,
   "metadata": {},
   "outputs": [
    {
     "name": "stdout",
     "output_type": "stream",
     "text": [
      "[ 1.  2.  3.  5.  8. 13.]\n"
     ]
    }
   ],
   "source": [
    "L = np.array([1, 2, 3, 5, 8, 13], dtype='float32')\n",
    "print(L)"
   ]
  },
  {
   "cell_type": "code",
   "execution_count": 6,
   "metadata": {},
   "outputs": [
    {
     "name": "stdout",
     "output_type": "stream",
     "text": [
      "[[2 3 4]\n",
      " [4 5 6]\n",
      " [6 7 8]]\n"
     ]
    }
   ],
   "source": [
    "L = np.array([range(i, i+3) for i in [2, 4, 6]])\n",
    "print(L)"
   ]
  },
  {
   "cell_type": "markdown",
   "metadata": {},
   "source": [
    "### 02.01.05 Creating Arrays from Scratch"
   ]
  },
  {
   "cell_type": "code",
   "execution_count": 29,
   "metadata": {},
   "outputs": [
    {
     "name": "stdout",
     "output_type": "stream",
     "text": [
      "10 length array filled with 0s\n",
      "[0 0 0 0 0 0 0 0 0 0]\n"
     ]
    }
   ],
   "source": [
    "num = 10\n",
    "zeros = np.zeros(num, dtype=int)\n",
    "print('{} length array filled with 0s'.format(num))\n",
    "print(zeros)"
   ]
  },
  {
   "cell_type": "code",
   "execution_count": 28,
   "metadata": {},
   "outputs": [
    {
     "name": "stdout",
     "output_type": "stream",
     "text": [
      "3x5 floating-point array filled with 1s\n",
      "[[1. 1. 1. 1. 1.]\n",
      " [1. 1. 1. 1. 1.]\n",
      " [1. 1. 1. 1. 1.]]\n"
     ]
    }
   ],
   "source": [
    "row, col = 3, 5\n",
    "ones = np.ones((row, col), dtype=float)\n",
    "print('{}x{} floating-point array filled with 1s'.format(row, col))\n",
    "print(ones)"
   ]
  },
  {
   "cell_type": "code",
   "execution_count": 27,
   "metadata": {},
   "outputs": [
    {
     "name": "stdout",
     "output_type": "stream",
     "text": [
      "3x5 array filled with 3.14\n",
      "[[3.14 3.14 3.14 3.14 3.14]\n",
      " [3.14 3.14 3.14 3.14 3.14]\n",
      " [3.14 3.14 3.14 3.14 3.14]]\n"
     ]
    }
   ],
   "source": [
    "row, col = 3, 5\n",
    "val = 3.14\n",
    "full = np.full((row, col), val)\n",
    "print('{}x{} array filled with {}'.format(row, col, val))\n",
    "print(full)"
   ]
  },
  {
   "cell_type": "code",
   "execution_count": 26,
   "metadata": {},
   "outputs": [
    {
     "name": "stdout",
     "output_type": "stream",
     "text": [
      "start at 0 end at 20, stepping by 2\n",
      "[ 0  2  4  6  8 10 12 14 16 18]\n"
     ]
    }
   ],
   "source": [
    "start, end = 0, 20\n",
    "step = 2\n",
    "arange = np.arange(start, end, step)\n",
    "print('start at {} end at {}, stepping by {}'.format(start, end, step))\n",
    "print(arange)"
   ]
  },
  {
   "cell_type": "code",
   "execution_count": 25,
   "metadata": {},
   "outputs": [
    {
     "name": "stdout",
     "output_type": "stream",
     "text": [
      "5 values beteween 0 and 1\n",
      "[0.   0.25 0.5  0.75 1.  ]\n"
     ]
    }
   ],
   "source": [
    "start, end = 0, 1\n",
    "num = 5\n",
    "linspace = np.linspace(start, end, num)\n",
    "print('{} values beteween {} and {}'.format(num, start, end))\n",
    "print(linspace)"
   ]
  },
  {
   "cell_type": "code",
   "execution_count": 24,
   "metadata": {},
   "outputs": [
    {
     "name": "stdout",
     "output_type": "stream",
     "text": [
      "3x3 array of uniforaly distributed\n",
      "[[0.36112585 0.17324368 0.95683928]\n",
      " [0.2165086  0.52295807 0.97430295]\n",
      " [0.3465815  0.51126976 0.72872297]]\n"
     ]
    }
   ],
   "source": [
    "row, col = 3, 3\n",
    "random = np.random.random((row, col))\n",
    "print('{}x{} array of uniforaly distributed'.format(row, col))\n",
    "print(random)"
   ]
  },
  {
   "cell_type": "code",
   "execution_count": 23,
   "metadata": {},
   "outputs": [
    {
     "name": "stdout",
     "output_type": "stream",
     "text": [
      "3x3 array of normally distributed random\n",
      "mean 0 std 1\n",
      "[[ 0.34947068  1.27760023 -0.0958526 ]\n",
      " [-0.91549194  1.18445305  0.63586514]\n",
      " [ 0.39018749  0.77889605  1.85747659]]\n"
     ]
    }
   ],
   "source": [
    "mean, std = 0, 1\n",
    "row, col = 3, 3\n",
    "normal = np.random.normal(mean, std, (row, col))\n",
    "print('{}x{} array of normally distributed random\\nmean {} std {}'.format(row, col, mean, std))\n",
    "print(normal)"
   ]
  },
  {
   "cell_type": "code",
   "execution_count": 20,
   "metadata": {},
   "outputs": [
    {
     "name": "stdout",
     "output_type": "stream",
     "text": [
      "3x3 array of random integers in [0, 10]\n",
      "[[2 9 3]\n",
      " [4 3 3]\n",
      " [2 8 7]]\n"
     ]
    }
   ],
   "source": [
    "start, end = 0, 10\n",
    "row, col = 3, 3\n",
    "randint = np.random.randint(start, end, (row, col))\n",
    "print('{}x{} array of random integers in [{}, {}]'.format(row, col, start, end))\n",
    "print(randint)"
   ]
  },
  {
   "cell_type": "code",
   "execution_count": 30,
   "metadata": {},
   "outputs": [
    {
     "name": "stdout",
     "output_type": "stream",
     "text": [
      "3x3 identity mat\n",
      "[[1. 0. 0.]\n",
      " [0. 1. 0.]\n",
      " [0. 0. 1.]]\n"
     ]
    }
   ],
   "source": [
    "num = 3\n",
    "eye = np.eye(num)\n",
    "print('{}x{} identity mat'.format(num, num))\n",
    "print(eye)"
   ]
  },
  {
   "cell_type": "code",
   "execution_count": 31,
   "metadata": {},
   "outputs": [
    {
     "name": "stdout",
     "output_type": "stream",
     "text": [
      "uninialized array of 3 integers\n",
      "[1. 1. 1.]\n"
     ]
    }
   ],
   "source": [
    "num = 3\n",
    "empty = np.empty(num)\n",
    "print('uninialized array of {} integers'.format(num))\n",
    "print(empty)"
   ]
  },
  {
   "cell_type": "markdown",
   "metadata": {},
   "source": [
    "### 02.01.06 NumPy Standard Data Types"
   ]
  },
  {
   "cell_type": "code",
   "execution_count": null,
   "metadata": {},
   "outputs": [],
   "source": []
  }
 ],
 "metadata": {
  "kernelspec": {
   "display_name": "Python 3",
   "language": "python",
   "name": "python3"
  },
  "language_info": {
   "codemirror_mode": {
    "name": "ipython",
    "version": 3
   },
   "file_extension": ".py",
   "mimetype": "text/x-python",
   "name": "python",
   "nbconvert_exporter": "python",
   "pygments_lexer": "ipython3",
   "version": "3.6.5"
  }
 },
 "nbformat": 4,
 "nbformat_minor": 2
}
